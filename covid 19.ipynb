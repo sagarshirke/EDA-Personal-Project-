{
 "cells": [
  {
   "cell_type": "markdown",
   "metadata": {},
   "source": [
    "# COVID-19 (SARS-CoV-2) Infection Statistics\n"
   ]
  },
  {
   "cell_type": "markdown",
   "metadata": {},
   "source": [
    "This dataset contains information about COVID-19 on http://bioinfo.usu.edu/covidTracker/\n",
    "\n",
    "Date: 4/29/2021\n"
   ]
  },
  {
   "cell_type": "markdown",
   "metadata": {},
   "source": [
    "This data is about State, Total Cases, Total Recovered, Total Deaths, Active Cases.\n",
    "Loading the dataset: Load the data and import the libraries.\n",
    " "
   ]
  },
  {
   "cell_type": "code",
   "execution_count": 1,
   "metadata": {},
   "outputs": [],
   "source": [
    "#importing Required library \n",
    "\n",
    "import pandas as pd\n",
    "import numpy as np\n",
    "import seaborn as sns\n",
    "import matplotlib.pyplot as plt\n",
    "import seaborn as sns\n",
    "%matplotlib inline"
   ]
  },
  {
   "cell_type": "code",
   "execution_count": 2,
   "metadata": {},
   "outputs": [
    {
     "data": {
      "text/html": [
       "        <script type=\"text/javascript\">\n",
       "        window.PlotlyConfig = {MathJaxConfig: 'local'};\n",
       "        if (window.MathJax) {MathJax.Hub.Config({SVG: {font: \"STIX-Web\"}});}\n",
       "        if (typeof require !== 'undefined') {\n",
       "        require.undef(\"plotly\");\n",
       "        requirejs.config({\n",
       "            paths: {\n",
       "                'plotly': ['https://cdn.plot.ly/plotly-latest.min']\n",
       "            }\n",
       "        });\n",
       "        require(['plotly'], function(Plotly) {\n",
       "            window._Plotly = Plotly;\n",
       "        });\n",
       "        }\n",
       "        </script>\n",
       "        "
      ]
     },
     "metadata": {},
     "output_type": "display_data"
    },
    {
     "data": {
      "text/html": [
       "        <script type=\"text/javascript\">\n",
       "        window.PlotlyConfig = {MathJaxConfig: 'local'};\n",
       "        if (window.MathJax) {MathJax.Hub.Config({SVG: {font: \"STIX-Web\"}});}\n",
       "        if (typeof require !== 'undefined') {\n",
       "        require.undef(\"plotly\");\n",
       "        requirejs.config({\n",
       "            paths: {\n",
       "                'plotly': ['https://cdn.plot.ly/plotly-latest.min']\n",
       "            }\n",
       "        });\n",
       "        require(['plotly'], function(Plotly) {\n",
       "            window._Plotly = Plotly;\n",
       "        });\n",
       "        }\n",
       "        </script>\n",
       "        "
      ]
     },
     "metadata": {},
     "output_type": "display_data"
    }
   ],
   "source": [
    "#importing plotly Library\n",
    "\n",
    "from plotly.offline import iplot\n",
    "import plotly as py\n",
    "import plotly.tools as tls\n",
    "import cufflinks as cf\n",
    "py.offline.init_notebook_mode(connected=True)  \n",
    "cf.go_offline()"
   ]
  },
  {
   "cell_type": "code",
   "execution_count": 3,
   "metadata": {},
   "outputs": [
    {
     "data": {
      "text/html": [
       "<div>\n",
       "<style scoped>\n",
       "    .dataframe tbody tr th:only-of-type {\n",
       "        vertical-align: middle;\n",
       "    }\n",
       "\n",
       "    .dataframe tbody tr th {\n",
       "        vertical-align: top;\n",
       "    }\n",
       "\n",
       "    .dataframe thead th {\n",
       "        text-align: right;\n",
       "    }\n",
       "</style>\n",
       "<table border=\"1\" class=\"dataframe\">\n",
       "  <thead>\n",
       "    <tr style=\"text-align: right;\">\n",
       "      <th></th>\n",
       "      <th>State</th>\n",
       "      <th>Total Cases</th>\n",
       "      <th>Total Recovered</th>\n",
       "      <th>Total Deaths</th>\n",
       "      <th>Active Cases</th>\n",
       "    </tr>\n",
       "  </thead>\n",
       "  <tbody>\n",
       "    <tr>\n",
       "      <th>0</th>\n",
       "      <td>Maharashtra</td>\n",
       "      <td>4539553</td>\n",
       "      <td>3799266</td>\n",
       "      <td>67985</td>\n",
       "      <td>670301</td>\n",
       "    </tr>\n",
       "    <tr>\n",
       "      <th>1</th>\n",
       "      <td>Kerala</td>\n",
       "      <td>1533985</td>\n",
       "      <td>1244301</td>\n",
       "      <td>5260</td>\n",
       "      <td>284085</td>\n",
       "    </tr>\n",
       "    <tr>\n",
       "      <th>2</th>\n",
       "      <td>Karnataka</td>\n",
       "      <td>1474846</td>\n",
       "      <td>1110025</td>\n",
       "      <td>15306</td>\n",
       "      <td>349496</td>\n",
       "    </tr>\n",
       "    <tr>\n",
       "      <th>3</th>\n",
       "      <td>Andhra Pradesh</td>\n",
       "      <td>1084336</td>\n",
       "      <td>962250</td>\n",
       "      <td>7928</td>\n",
       "      <td>114158</td>\n",
       "    </tr>\n",
       "    <tr>\n",
       "      <th>4</th>\n",
       "      <td>Tamil Nadu</td>\n",
       "      <td>1148064</td>\n",
       "      <td>1021575</td>\n",
       "      <td>13933</td>\n",
       "      <td>112556</td>\n",
       "    </tr>\n",
       "    <tr>\n",
       "      <th>5</th>\n",
       "      <td>Delhi</td>\n",
       "      <td>1098051</td>\n",
       "      <td>982922</td>\n",
       "      <td>15377</td>\n",
       "      <td>99752</td>\n",
       "    </tr>\n",
       "    <tr>\n",
       "      <th>6</th>\n",
       "      <td>Uttar Pradesh</td>\n",
       "      <td>1217952</td>\n",
       "      <td>896477</td>\n",
       "      <td>12238</td>\n",
       "      <td>309237</td>\n",
       "    </tr>\n",
       "    <tr>\n",
       "      <th>7</th>\n",
       "      <td>West Bengal</td>\n",
       "      <td>810955</td>\n",
       "      <td>689466</td>\n",
       "      <td>11248</td>\n",
       "      <td>110241</td>\n",
       "    </tr>\n",
       "    <tr>\n",
       "      <th>8</th>\n",
       "      <td>Odisha</td>\n",
       "      <td>435513</td>\n",
       "      <td>380400</td>\n",
       "      <td>2082</td>\n",
       "      <td>53031</td>\n",
       "    </tr>\n",
       "    <tr>\n",
       "      <th>9</th>\n",
       "      <td>Rajasthan</td>\n",
       "      <td>580846</td>\n",
       "      <td>407243</td>\n",
       "      <td>4084</td>\n",
       "      <td>169519</td>\n",
       "    </tr>\n",
       "  </tbody>\n",
       "</table>\n",
       "</div>"
      ],
      "text/plain": [
       "            State  Total Cases  Total Recovered  Total Deaths  Active Cases\n",
       "0     Maharashtra      4539553          3799266         67985        670301\n",
       "1          Kerala      1533985          1244301          5260        284085\n",
       "2       Karnataka      1474846          1110025         15306        349496\n",
       "3  Andhra Pradesh      1084336           962250          7928        114158\n",
       "4      Tamil Nadu      1148064          1021575         13933        112556\n",
       "5           Delhi      1098051           982922         15377         99752\n",
       "6   Uttar Pradesh      1217952           896477         12238        309237\n",
       "7     West Bengal       810955           689466         11248        110241\n",
       "8          Odisha       435513           380400          2082         53031\n",
       "9       Rajasthan       580846           407243          4084        169519"
      ]
     },
     "execution_count": 3,
     "metadata": {},
     "output_type": "execute_result"
    }
   ],
   "source": [
    "#importing the datase \n",
    "#See the first 10 entries\n",
    "\n",
    "df=pd.read_csv(r\"C:\\Users\\Sagar Suraj Shirke\\COVID-19 Infection Tracker.csv\")\n",
    "df.head(10)"
   ]
  },
  {
   "cell_type": "code",
   "execution_count": 4,
   "metadata": {},
   "outputs": [
    {
     "data": {
      "text/plain": [
       "<AxesSubplot:>"
      ]
     },
     "execution_count": 4,
     "metadata": {},
     "output_type": "execute_result"
    },
    {
     "data": {
      "image/png": "[encoded data removed]",
      "text/plain": [
       "<Figure size 720x360 with 1 Axes>"
      ]
     },
     "metadata": {
      "needs_background": "light"
     },
     "output_type": "display_data"
    }
   ],
   "source": [
    "df.head(10).plot(legend = True, figsize = (10, 5), logy = True)"
   ]
  },
  {
   "cell_type": "markdown",
   "metadata": {},
   "source": []
  },
  {
   "cell_type": "code",
   "execution_count": 5,
   "metadata": {},
   "outputs": [],
   "source": [
    "resbyloc=df.groupby(\"State\")"
   ]
  },
  {
   "cell_type": "code",
   "execution_count": 6,
   "metadata": {},
   "outputs": [
    {
     "data": {
      "text/html": [
       "<div>\n",
       "<style scoped>\n",
       "    .dataframe tbody tr th:only-of-type {\n",
       "        vertical-align: middle;\n",
       "    }\n",
       "\n",
       "    .dataframe tbody tr th {\n",
       "        vertical-align: top;\n",
       "    }\n",
       "\n",
       "    .dataframe thead th {\n",
       "        text-align: right;\n",
       "    }\n",
       "</style>\n",
       "<table border=\"1\" class=\"dataframe\">\n",
       "  <thead>\n",
       "    <tr style=\"text-align: right;\">\n",
       "      <th></th>\n",
       "      <th>Total Cases</th>\n",
       "      <th>Total Recovered</th>\n",
       "      <th>Total Deaths</th>\n",
       "      <th>Active Cases</th>\n",
       "    </tr>\n",
       "    <tr>\n",
       "      <th>State</th>\n",
       "      <th></th>\n",
       "      <th></th>\n",
       "      <th></th>\n",
       "      <th></th>\n",
       "    </tr>\n",
       "  </thead>\n",
       "  <tbody>\n",
       "    <tr>\n",
       "      <th>Andaman and Nicobar Islands</th>\n",
       "      <td>5816</td>\n",
       "      <td>5606</td>\n",
       "      <td>67</td>\n",
       "      <td>143</td>\n",
       "    </tr>\n",
       "    <tr>\n",
       "      <th>Andhra Pradesh</th>\n",
       "      <td>1084336</td>\n",
       "      <td>962250</td>\n",
       "      <td>7928</td>\n",
       "      <td>114158</td>\n",
       "    </tr>\n",
       "    <tr>\n",
       "      <th>Arunachal Pradesh</th>\n",
       "      <td>18063</td>\n",
       "      <td>17038</td>\n",
       "      <td>58</td>\n",
       "      <td>967</td>\n",
       "    </tr>\n",
       "    <tr>\n",
       "      <th>Assam</th>\n",
       "      <td>246847</td>\n",
       "      <td>222397</td>\n",
       "      <td>1255</td>\n",
       "      <td>21848</td>\n",
       "    </tr>\n",
       "    <tr>\n",
       "      <th>Bihar</th>\n",
       "      <td>454464</td>\n",
       "      <td>351162</td>\n",
       "      <td>2480</td>\n",
       "      <td>100821</td>\n",
       "    </tr>\n",
       "    <tr>\n",
       "      <th>Chandigarh</th>\n",
       "      <td>41923</td>\n",
       "      <td>34806</td>\n",
       "      <td>465</td>\n",
       "      <td>6652</td>\n",
       "    </tr>\n",
       "    <tr>\n",
       "      <th>Chhattisgarh</th>\n",
       "      <td>697902</td>\n",
       "      <td>570995</td>\n",
       "      <td>8061</td>\n",
       "      <td>118846</td>\n",
       "    </tr>\n",
       "    <tr>\n",
       "      <th>Dadra and Nagar Haveli and Daman and Diu</th>\n",
       "      <td>7378</td>\n",
       "      <td>5151</td>\n",
       "      <td>4</td>\n",
       "      <td>2192</td>\n",
       "    </tr>\n",
       "    <tr>\n",
       "      <th>Delhi</th>\n",
       "      <td>1098051</td>\n",
       "      <td>982922</td>\n",
       "      <td>15377</td>\n",
       "      <td>99752</td>\n",
       "    </tr>\n",
       "    <tr>\n",
       "      <th>Goa</th>\n",
       "      <td>88028</td>\n",
       "      <td>65984</td>\n",
       "      <td>1146</td>\n",
       "      <td>20898</td>\n",
       "    </tr>\n",
       "    <tr>\n",
       "      <th>Gujarat</th>\n",
       "      <td>553172</td>\n",
       "      <td>408368</td>\n",
       "      <td>7010</td>\n",
       "      <td>137794</td>\n",
       "    </tr>\n",
       "    <tr>\n",
       "      <th>Haryana</th>\n",
       "      <td>460198</td>\n",
       "      <td>367317</td>\n",
       "      <td>4021</td>\n",
       "      <td>88860</td>\n",
       "    </tr>\n",
       "    <tr>\n",
       "      <th>Himachal Pradesh</th>\n",
       "      <td>93889</td>\n",
       "      <td>76335</td>\n",
       "      <td>1407</td>\n",
       "      <td>16098</td>\n",
       "    </tr>\n",
       "    <tr>\n",
       "      <th>Jammu and Kashmir</th>\n",
       "      <td>172551</td>\n",
       "      <td>144154</td>\n",
       "      <td>2253</td>\n",
       "      <td>26144</td>\n",
       "    </tr>\n",
       "    <tr>\n",
       "      <th>Jharkhand</th>\n",
       "      <td>221489</td>\n",
       "      <td>164278</td>\n",
       "      <td>2395</td>\n",
       "      <td>54816</td>\n",
       "    </tr>\n",
       "    <tr>\n",
       "      <th>Karnataka</th>\n",
       "      <td>1474846</td>\n",
       "      <td>1110025</td>\n",
       "      <td>15306</td>\n",
       "      <td>349496</td>\n",
       "    </tr>\n",
       "    <tr>\n",
       "      <th>Kerala</th>\n",
       "      <td>1533985</td>\n",
       "      <td>1244301</td>\n",
       "      <td>5260</td>\n",
       "      <td>284085</td>\n",
       "    </tr>\n",
       "    <tr>\n",
       "      <th>Ladakh</th>\n",
       "      <td>13758</td>\n",
       "      <td>11937</td>\n",
       "      <td>139</td>\n",
       "      <td>1682</td>\n",
       "    </tr>\n",
       "    <tr>\n",
       "      <th>Lakshadweep</th>\n",
       "      <td>2504</td>\n",
       "      <td>1329</td>\n",
       "      <td>1</td>\n",
       "      <td>1167</td>\n",
       "    </tr>\n",
       "    <tr>\n",
       "      <th>Madhya Pradesh</th>\n",
       "      <td>538165</td>\n",
       "      <td>439968</td>\n",
       "      <td>5424</td>\n",
       "      <td>92773</td>\n",
       "    </tr>\n",
       "    <tr>\n",
       "      <th>Maharashtra</th>\n",
       "      <td>4539553</td>\n",
       "      <td>3799266</td>\n",
       "      <td>67985</td>\n",
       "      <td>670301</td>\n",
       "    </tr>\n",
       "    <tr>\n",
       "      <th>Manipur</th>\n",
       "      <td>31001</td>\n",
       "      <td>29376</td>\n",
       "      <td>395</td>\n",
       "      <td>1230</td>\n",
       "    </tr>\n",
       "    <tr>\n",
       "      <th>Meghalaya</th>\n",
       "      <td>16617</td>\n",
       "      <td>14917</td>\n",
       "      <td>169</td>\n",
       "      <td>1531</td>\n",
       "    </tr>\n",
       "    <tr>\n",
       "      <th>Mizoram</th>\n",
       "      <td>5879</td>\n",
       "      <td>4857</td>\n",
       "      <td>13</td>\n",
       "      <td>1009</td>\n",
       "    </tr>\n",
       "    <tr>\n",
       "      <th>Nagaland</th>\n",
       "      <td>13569</td>\n",
       "      <td>12183</td>\n",
       "      <td>100</td>\n",
       "      <td>952</td>\n",
       "    </tr>\n",
       "    <tr>\n",
       "      <th>Odisha</th>\n",
       "      <td>435513</td>\n",
       "      <td>380400</td>\n",
       "      <td>2082</td>\n",
       "      <td>53031</td>\n",
       "    </tr>\n",
       "    <tr>\n",
       "      <th>Puducherry</th>\n",
       "      <td>57427</td>\n",
       "      <td>47645</td>\n",
       "      <td>793</td>\n",
       "      <td>8989</td>\n",
       "    </tr>\n",
       "    <tr>\n",
       "      <th>Punjab</th>\n",
       "      <td>358186</td>\n",
       "      <td>295988</td>\n",
       "      <td>8772</td>\n",
       "      <td>53426</td>\n",
       "    </tr>\n",
       "    <tr>\n",
       "      <th>Rajasthan</th>\n",
       "      <td>580846</td>\n",
       "      <td>407243</td>\n",
       "      <td>4084</td>\n",
       "      <td>169519</td>\n",
       "    </tr>\n",
       "    <tr>\n",
       "      <th>Sikkim</th>\n",
       "      <td>7577</td>\n",
       "      <td>6154</td>\n",
       "      <td>143</td>\n",
       "      <td>1106</td>\n",
       "    </tr>\n",
       "    <tr>\n",
       "      <th>Tamil Nadu</th>\n",
       "      <td>1148064</td>\n",
       "      <td>1021575</td>\n",
       "      <td>13933</td>\n",
       "      <td>112556</td>\n",
       "    </tr>\n",
       "    <tr>\n",
       "      <th>Telangana</th>\n",
       "      <td>427960</td>\n",
       "      <td>349692</td>\n",
       "      <td>2208</td>\n",
       "      <td>76060</td>\n",
       "    </tr>\n",
       "    <tr>\n",
       "      <th>Tripura</th>\n",
       "      <td>35025</td>\n",
       "      <td>33505</td>\n",
       "      <td>393</td>\n",
       "      <td>1104</td>\n",
       "    </tr>\n",
       "    <tr>\n",
       "      <th>Uttar Pradesh</th>\n",
       "      <td>1217952</td>\n",
       "      <td>896477</td>\n",
       "      <td>12238</td>\n",
       "      <td>309237</td>\n",
       "    </tr>\n",
       "    <tr>\n",
       "      <th>Uttarakhand</th>\n",
       "      <td>174867</td>\n",
       "      <td>120350</td>\n",
       "      <td>2502</td>\n",
       "      <td>48318</td>\n",
       "    </tr>\n",
       "    <tr>\n",
       "      <th>West Bengal</th>\n",
       "      <td>810955</td>\n",
       "      <td>689466</td>\n",
       "      <td>11248</td>\n",
       "      <td>110241</td>\n",
       "    </tr>\n",
       "  </tbody>\n",
       "</table>\n",
       "</div>"
      ],
      "text/plain": [
       "                                          Total Cases  Total Recovered  \\\n",
       "State                                                                    \n",
       "Andaman and Nicobar Islands                      5816             5606   \n",
       "Andhra Pradesh                                1084336           962250   \n",
       "Arunachal Pradesh                               18063            17038   \n",
       "Assam                                          246847           222397   \n",
       "Bihar                                          454464           351162   \n",
       "Chandigarh                                      41923            34806   \n",
       "Chhattisgarh                                   697902           570995   \n",
       "Dadra and Nagar Haveli and Daman and Diu         7378             5151   \n",
       "Delhi                                         1098051           982922   \n",
       "Goa                                             88028            65984   \n",
       "Gujarat                                        553172           408368   \n",
       "Haryana                                        460198           367317   \n",
       "Himachal Pradesh                                93889            76335   \n",
       "Jammu and Kashmir                              172551           144154   \n",
       "Jharkhand                                      221489           164278   \n",
       "Karnataka                                     1474846          1110025   \n",
       "Kerala                                        1533985          1244301   \n",
       "Ladakh                                          13758            11937   \n",
       "Lakshadweep                                      2504             1329   \n",
       "Madhya Pradesh                                 538165           439968   \n",
       "Maharashtra                                   4539553          3799266   \n",
       "Manipur                                         31001            29376   \n",
       "Meghalaya                                       16617            14917   \n",
       "Mizoram                                          5879             4857   \n",
       "Nagaland                                        13569            12183   \n",
       "Odisha                                         435513           380400   \n",
       "Puducherry                                      57427            47645   \n",
       "Punjab                                         358186           295988   \n",
       "Rajasthan                                      580846           407243   \n",
       "Sikkim                                           7577             6154   \n",
       "Tamil Nadu                                    1148064          1021575   \n",
       "Telangana                                      427960           349692   \n",
       "Tripura                                         35025            33505   \n",
       "Uttar Pradesh                                 1217952           896477   \n",
       "Uttarakhand                                    174867           120350   \n",
       "West Bengal                                    810955           689466   \n",
       "\n",
       "                                          Total Deaths  Active Cases  \n",
       "State                                                                 \n",
       "Andaman and Nicobar Islands                         67           143  \n",
       "Andhra Pradesh                                    7928        114158  \n",
       "Arunachal Pradesh                                   58           967  \n",
       "Assam                                             1255         21848  \n",
       "Bihar                                             2480        100821  \n",
       "Chandigarh                                         465          6652  \n",
       "Chhattisgarh                                      8061        118846  \n",
       "Dadra and Nagar Haveli and Daman and Diu             4          2192  \n",
       "Delhi                                            15377         99752  \n",
       "Goa                                               1146         20898  \n",
       "Gujarat                                           7010        137794  \n",
       "Haryana                                           4021         88860  \n",
       "Himachal Pradesh                                  1407         16098  \n",
       "Jammu and Kashmir                                 2253         26144  \n",
       "Jharkhand                                         2395         54816  \n",
       "Karnataka                                        15306        349496  \n",
       "Kerala                                            5260        284085  \n",
       "Ladakh                                             139          1682  \n",
       "Lakshadweep                                          1          1167  \n",
       "Madhya Pradesh                                    5424         92773  \n",
       "Maharashtra                                      67985        670301  \n",
       "Manipur                                            395          1230  \n",
       "Meghalaya                                          169          1531  \n",
       "Mizoram                                             13          1009  \n",
       "Nagaland                                           100           952  \n",
       "Odisha                                            2082         53031  \n",
       "Puducherry                                         793          8989  \n",
       "Punjab                                            8772         53426  \n",
       "Rajasthan                                         4084        169519  \n",
       "Sikkim                                             143          1106  \n",
       "Tamil Nadu                                       13933        112556  \n",
       "Telangana                                         2208         76060  \n",
       "Tripura                                            393          1104  \n",
       "Uttar Pradesh                                    12238        309237  \n",
       "Uttarakhand                                       2502         48318  \n",
       "West Bengal                                      11248        110241  "
      ]
     },
     "execution_count": 6,
     "metadata": {},
     "output_type": "execute_result"
    }
   ],
   "source": [
    "resbyloc.mean()"
   ]
  },
  {
   "cell_type": "code",
   "execution_count": 7,
   "metadata": {},
   "outputs": [
    {
     "data": {
      "application/vnd.plotly.v1+json": {
       "config": {
        "linkText": "Export to plot.ly",
        "plotlyServerURL": "https://plot.ly",
        "showLink": true
       },
       "data": [
        {
         "marker": {
          "color": "rgba(255, 153, 51, 0.6)",
          "line": {
           "color": "rgba(255, 153, 51, 1.0)",
           "width": 1
          }
         },
         "name": "Total Cases",
         "orientation": "v",
         "text": "",
         "type": "bar",
         "x": [
          "Lakshadweep",
          "Andaman and Nicobar Islands",
          "Mizoram",
          "Dadra and Nagar Haveli and Daman and Diu",
          "Sikkim",
          "Nagaland",
          "Ladakh",
          "Meghalaya",
          "Arunachal Pradesh",
          "Manipur",
          "Tripura",
          "Chandigarh",
          "Puducherry",
          "Goa",
          "Himachal Pradesh",
          "Jammu and Kashmir",
          "Uttarakhand",
          "Jharkhand",
          "Assam",
          "Punjab",
          "Telangana",
          "Odisha",
          "Bihar",
          "Haryana",
          "Madhya Pradesh",
          "Gujarat",
          "Rajasthan",
          "Chhattisgarh",
          "West Bengal",
          "Andhra Pradesh",
          "Delhi",
          "Tamil Nadu",
          "Uttar Pradesh",
          "Karnataka",
          "Kerala",
          "Maharashtra"
         ],
         "y": [
          2504,
          5816,
          5879,
          7378,
          7577,
          13569,
          13758,
          16617,
          18063,
          31001,
          35025,
          41923,
          57427,
          88028,
          93889,
          172551,
          174867,
          221489,
          246847,
          358186,
          427960,
          435513,
          454464,
          460198,
          538165,
          553172,
          580846,
          697902,
          810955,
          1084336,
          1098051,
          1148064,
          1217952,
          1474846,
          1533985,
          4539553
         ]
        },
        {
         "marker": {
          "color": "rgba(55, 128, 191, 0.6)",
          "line": {
           "color": "rgba(55, 128, 191, 1.0)",
           "width": 1
          }
         },
         "name": "Total Recovered",
         "orientation": "v",
         "text": "",
         "type": "bar",
         "x": [
          "Lakshadweep",
          "Andaman and Nicobar Islands",
          "Mizoram",
          "Dadra and Nagar Haveli and Daman and Diu",
          "Sikkim",
          "Nagaland",
          "Ladakh",
          "Meghalaya",
          "Arunachal Pradesh",
          "Manipur",
          "Tripura",
          "Chandigarh",
          "Puducherry",
          "Goa",
          "Himachal Pradesh",
          "Jammu and Kashmir",
          "Uttarakhand",
          "Jharkhand",
          "Assam",
          "Punjab",
          "Telangana",
          "Odisha",
          "Bihar",
          "Haryana",
          "Madhya Pradesh",
          "Gujarat",
          "Rajasthan",
          "Chhattisgarh",
          "West Bengal",
          "Andhra Pradesh",
          "Delhi",
          "Tamil Nadu",
          "Uttar Pradesh",
          "Karnataka",
          "Kerala",
          "Maharashtra"
         ],
         "y": [
          1329,
          5606,
          4857,
          5151,
          6154,
          12183,
          11937,
          14917,
          17038,
          29376,
          33505,
          34806,
          47645,
          65984,
          76335,
          144154,
          120350,
          164278,
          222397,
          295988,
          349692,
          380400,
          351162,
          367317,
          439968,
          408368,
          407243,
          570995,
          689466,
          962250,
          982922,
          1021575,
          896477,
          1110025,
          1244301,
          3799266
         ]
        },
        {
         "marker": {
          "color": "rgba(50, 171, 96, 0.6)",
          "line": {
           "color": "rgba(50, 171, 96, 1.0)",
           "width": 1
          }
         },
         "name": "Total Deaths",
         "orientation": "v",
         "text": "",
         "type": "bar",
         "x": [
          "Lakshadweep",
          "Andaman and Nicobar Islands",
          "Mizoram",
          "Dadra and Nagar Haveli and Daman and Diu",
          "Sikkim",
          "Nagaland",
          "Ladakh",
          "Meghalaya",
          "Arunachal Pradesh",
          "Manipur",
          "Tripura",
          "Chandigarh",
          "Puducherry",
          "Goa",
          "Himachal Pradesh",
          "Jammu and Kashmir",
          "Uttarakhand",
          "Jharkhand",
          "Assam",
          "Punjab",
          "Telangana",
          "Odisha",
          "Bihar",
          "Haryana",
          "Madhya Pradesh",
          "Gujarat",
          "Rajasthan",
          "Chhattisgarh",
          "West Bengal",
          "Andhra Pradesh",
          "Delhi",
          "Tamil Nadu",
          "Uttar Pradesh",
          "Karnataka",
          "Kerala",
          "Maharashtra"
         ],
         "y": [
          1,
          67,
          13,
          4,
          143,
          100,
          139,
          169,
          58,
          395,
          393,
          465,
          793,
          1146,
          1407,
          2253,
          2502,
          2395,
          1255,
          8772,
          2208,
          2082,
          2480,
          4021,
          5424,
          7010,
          4084,
          8061,
          11248,
          7928,
          15377,
          13933,
          12238,
          15306,
          5260,
          67985
         ]
        },
        {
         "marker": {
          "color": "rgba(128, 0, 128, 0.6)",
          "line": {
           "color": "rgba(128, 0, 128, 1.0)",
           "width": 1
          }
         },
         "name": "Active Cases",
         "orientation": "v",
         "text": "",
         "type": "bar",
         "x": [
          "Lakshadweep",
          "Andaman and Nicobar Islands",
          "Mizoram",
          "Dadra and Nagar Haveli and Daman and Diu",
          "Sikkim",
          "Nagaland",
          "Ladakh",
          "Meghalaya",
          "Arunachal Pradesh",
          "Manipur",
          "Tripura",
          "Chandigarh",
          "Puducherry",
          "Goa",
          "Himachal Pradesh",
          "Jammu and Kashmir",
          "Uttarakhand",
          "Jharkhand",
          "Assam",
          "Punjab",
          "Telangana",
          "Odisha",
          "Bihar",
          "Haryana",
          "Madhya Pradesh",
          "Gujarat",
          "Rajasthan",
          "Chhattisgarh",
          "West Bengal",
          "Andhra Pradesh",
          "Delhi",
          "Tamil Nadu",
          "Uttar Pradesh",
          "Karnataka",
          "Kerala",
          "Maharashtra"
         ],
         "y": [
          1167,
          143,
          1009,
          2192,
          1106,
          952,
          1682,
          1531,
          967,
          1230,
          1104,
          6652,
          8989,
          20898,
          16098,
          26144,
          48318,
          54816,
          21848,
          53426,
          76060,
          53031,
          100821,
          88860,
          92773,
          137794,
          169519,
          118846,
          110241,
          114158,
          99752,
          112556,
          309237,
          349496,
          284085,
          670301
         ]
        }
       ],
       "layout": {
        "barmode": "stack",
        "legend": {
         "bgcolor": "#F5F6F9",
         "font": {
          "color": "#4D5663"
         },
         "traceorder": "normal"
        },
        "paper_bgcolor": "#F5F6F9",
        "plot_bgcolor": "#F5F6F9",
        "template": {
         "data": {
          "bar": [
           {
            "error_x": {
             "color": "#2a3f5f"
            },
            "error_y": {
             "color": "#2a3f5f"
            },
            "marker": {
             "line": {
              "color": "#E5ECF6",
              "width": 0.5
             }
            },
            "type": "bar"
           }
          ],
          "barpolar": [
           {
            "marker": {
             "line": {
              "color": "#E5ECF6",
              "width": 0.5
             }
            },
            "type": "barpolar"
           }
          ],
          "carpet": [
           {
            "aaxis": {
             "endlinecolor": "#2a3f5f",
             "gridcolor": "white",
             "linecolor": "white",
             "minorgridcolor": "white",
             "startlinecolor": "#2a3f5f"
            },
            "baxis": {
             "endlinecolor": "#2a3f5f",
             "gridcolor": "white",
             "linecolor": "white",
             "minorgridcolor": "white",
             "startlinecolor": "#2a3f5f"
            },
            "type": "carpet"
           }
          ],
          "choropleth": [
           {
            "colorbar": {
             "outlinewidth": 0,
             "ticks": ""
            },
            "type": "choropleth"
           }
          ],
          "contour": [
           {
            "colorbar": {
             "outlinewidth": 0,
             "ticks": ""
            },
            "colorscale": [
             [
              0,
              "#0d0887"
             ],
             [
              0.1111111111111111,
              "#46039f"
             ],
             [
              0.2222222222222222,
              "#7201a8"
             ],
             [
              0.3333333333333333,
              "#9c179e"
             ],
             [
              0.4444444444444444,
              "#bd3786"
             ],
             [
              0.5555555555555556,
              "#d8576b"
             ],
             [
              0.6666666666666666,
              "#ed7953"
             ],
             [
              0.7777777777777778,
              "#fb9f3a"
             ],
             [
              0.8888888888888888,
              "#fdca26"
             ],
             [
              1,
              "#f0f921"
             ]
            ],
            "type": "contour"
           }
          ],
          "contourcarpet": [
           {
            "colorbar": {
             "outlinewidth": 0,
             "ticks": ""
            },
            "type": "contourcarpet"
           }
          ],
          "heatmap": [
           {
            "colorbar": {
             "outlinewidth": 0,
             "ticks": ""
            },
            "colorscale": [
             [
              0,
              "#0d0887"
             ],
             [
              0.1111111111111111,
              "#46039f"
             ],
             [
              0.2222222222222222,
              "#7201a8"
             ],
             [
              0.3333333333333333,
              "#9c179e"
             ],
             [
              0.4444444444444444,
              "#bd3786"
             ],
             [
              0.5555555555555556,
              "#d8576b"
             ],
             [
              0.6666666666666666,
              "#ed7953"
             ],
             [
              0.7777777777777778,
              "#fb9f3a"
             ],
             [
              0.8888888888888888,
              "#fdca26"
             ],
             [
              1,
              "#f0f921"
             ]
            ],
            "type": "heatmap"
           }
          ],
          "heatmapgl": [
           {
            "colorbar": {
             "outlinewidth": 0,
             "ticks": ""
            },
            "colorscale": [
             [
              0,
              "#0d0887"
             ],
             [
              0.1111111111111111,
              "#46039f"
             ],
             [
              0.2222222222222222,
              "#7201a8"
             ],
             [
              0.3333333333333333,
              "#9c179e"
             ],
             [
              0.4444444444444444,
              "#bd3786"
             ],
             [
              0.5555555555555556,
              "#d8576b"
             ],
             [
              0.6666666666666666,
              "#ed7953"
             ],
             [
              0.7777777777777778,
              "#fb9f3a"
             ],
             [
              0.8888888888888888,
              "#fdca26"
             ],
             [
              1,
              "#f0f921"
             ]
            ],
            "type": "heatmapgl"
           }
          ],
          "histogram": [
           {
            "marker": {
             "colorbar": {
              "outlinewidth": 0,
              "ticks": ""
             }
            },
            "type": "histogram"
           }
          ],
          "histogram2d": [
           {
            "colorbar": {
             "outlinewidth": 0,
             "ticks": ""
            },
            "colorscale": [
             [
              0,
              "#0d0887"
             ],
             [
              0.1111111111111111,
              "#46039f"
             ],
             [
              0.2222222222222222,
              "#7201a8"
             ],
             [
              0.3333333333333333,
              "#9c179e"
             ],
             [
              0.4444444444444444,
              "#bd3786"
             ],
             [
              0.5555555555555556,
              "#d8576b"
             ],
             [
              0.6666666666666666,
              "#ed7953"
             ],
             [
              0.7777777777777778,
              "#fb9f3a"
             ],
             [
              0.8888888888888888,
              "#fdca26"
             ],
             [
              1,
              "#f0f921"
             ]
            ],
            "type": "histogram2d"
           }
          ],
          "histogram2dcontour": [
           {
            "colorbar": {
             "outlinewidth": 0,
             "ticks": ""
            },
            "colorscale": [
             [
              0,
              "#0d0887"
             ],
             [
              0.1111111111111111,
              "#46039f"
             ],
             [
              0.2222222222222222,
              "#7201a8"
             ],
             [
              0.3333333333333333,
              "#9c179e"
             ],
             [
              0.4444444444444444,
              "#bd3786"
             ],
             [
              0.5555555555555556,
              "#d8576b"
             ],
             [
              0.6666666666666666,
              "#ed7953"
             ],
             [
              0.7777777777777778,
              "#fb9f3a"
             ],
             [
              0.8888888888888888,
              "#fdca26"
             ],
             [
              1,
              "#f0f921"
             ]
            ],
            "type": "histogram2dcontour"
           }
          ],
          "mesh3d": [
           {
            "colorbar": {
             "outlinewidth": 0,
             "ticks": ""
            },
            "type": "mesh3d"
           }
          ],
          "parcoords": [
           {
            "line": {
             "colorbar": {
              "outlinewidth": 0,
              "ticks": ""
             }
            },
            "type": "parcoords"
           }
          ],
          "pie": [
           {
            "automargin": true,
            "type": "pie"
           }
          ],
          "scatter": [
           {
            "marker": {
             "colorbar": {
              "outlinewidth": 0,
              "ticks": ""
             }
            },
            "type": "scatter"
           }
          ],
          "scatter3d": [
           {
            "line": {
             "colorbar": {
              "outlinewidth": 0,
              "ticks": ""
             }
            },
            "marker": {
             "colorbar": {
              "outlinewidth": 0,
              "ticks": ""
             }
            },
            "type": "scatter3d"
           }
          ],
          "scattercarpet": [
           {
            "marker": {
             "colorbar": {
              "outlinewidth": 0,
              "ticks": ""
             }
            },
            "type": "scattercarpet"
           }
          ],
          "scattergeo": [
           {
            "marker": {
             "colorbar": {
              "outlinewidth": 0,
              "ticks": ""
             }
            },
            "type": "scattergeo"
           }
          ],
          "scattergl": [
           {
            "marker": {
             "colorbar": {
              "outlinewidth": 0,
              "ticks": ""
             }
            },
            "type": "scattergl"
           }
          ],
          "scattermapbox": [
           {
            "marker": {
             "colorbar": {
              "outlinewidth": 0,
              "ticks": ""
             }
            },
            "type": "scattermapbox"
           }
          ],
          "scatterpolar": [
           {
            "marker": {
             "colorbar": {
              "outlinewidth": 0,
              "ticks": ""
             }
            },
            "type": "scatterpolar"
           }
          ],
          "scatterpolargl": [
           {
            "marker": {
             "colorbar": {
              "outlinewidth": 0,
              "ticks": ""
             }
            },
            "type": "scatterpolargl"
           }
          ],
          "scatterternary": [
           {
            "marker": {
             "colorbar": {
              "outlinewidth": 0,
              "ticks": ""
             }
            },
            "type": "scatterternary"
           }
          ],
          "surface": [
           {
            "colorbar": {
             "outlinewidth": 0,
             "ticks": ""
            },
            "colorscale": [
             [
              0,
              "#0d0887"
             ],
             [
              0.1111111111111111,
              "#46039f"
             ],
             [
              0.2222222222222222,
              "#7201a8"
             ],
             [
              0.3333333333333333,
              "#9c179e"
             ],
             [
              0.4444444444444444,
              "#bd3786"
             ],
             [
              0.5555555555555556,
              "#d8576b"
             ],
             [
              0.6666666666666666,
              "#ed7953"
             ],
             [
              0.7777777777777778,
              "#fb9f3a"
             ],
             [
              0.8888888888888888,
              "#fdca26"
             ],
             [
              1,
              "#f0f921"
             ]
            ],
            "type": "surface"
           }
          ],
          "table": [
           {
            "cells": {
             "fill": {
              "color": "#EBF0F8"
             },
             "line": {
              "color": "white"
             }
            },
            "header": {
             "fill": {
              "color": "#C8D4E3"
             },
             "line": {
              "color": "white"
             }
            },
            "type": "table"
           }
          ]
         },
         "layout": {
          "annotationdefaults": {
           "arrowcolor": "#2a3f5f",
           "arrowhead": 0,
           "arrowwidth": 1
          },
          "autotypenumbers": "strict",
          "coloraxis": {
           "colorbar": {
            "outlinewidth": 0,
            "ticks": ""
           }
          },
          "colorscale": {
           "diverging": [
            [
             0,
             "#8e0152"
            ],
            [
             0.1,
             "#c51b7d"
            ],
            [
             0.2,
             "#de77ae"
            ],
            [
             0.3,
             "#f1b6da"
            ],
            [
             0.4,
             "#fde0ef"
            ],
            [
             0.5,
             "#f7f7f7"
            ],
            [
             0.6,
             "#e6f5d0"
            ],
            [
             0.7,
             "#b8e186"
            ],
            [
             0.8,
             "#7fbc41"
            ],
            [
             0.9,
             "#4d9221"
            ],
            [
             1,
             "#276419"
            ]
           ],
           "sequential": [
            [
             0,
             "#0d0887"
            ],
            [
             0.1111111111111111,
             "#46039f"
            ],
            [
             0.2222222222222222,
             "#7201a8"
            ],
            [
             0.3333333333333333,
             "#9c179e"
            ],
            [
             0.4444444444444444,
             "#bd3786"
            ],
            [
             0.5555555555555556,
             "#d8576b"
            ],
            [
             0.6666666666666666,
             "#ed7953"
            ],
            [
             0.7777777777777778,
             "#fb9f3a"
            ],
            [
             0.8888888888888888,
             "#fdca26"
            ],
            [
             1,
             "#f0f921"
            ]
           ],
           "sequentialminus": [
            [
             0,
             "#0d0887"
            ],
            [
             0.1111111111111111,
             "#46039f"
            ],
            [
             0.2222222222222222,
             "#7201a8"
            ],
            [
             0.3333333333333333,
             "#9c179e"
            ],
            [
             0.4444444444444444,
             "#bd3786"
            ],
            [
             0.5555555555555556,
             "#d8576b"
            ],
            [
             0.6666666666666666,
             "#ed7953"
            ],
            [
             0.7777777777777778,
             "#fb9f3a"
            ],
            [
             0.8888888888888888,
             "#fdca26"
            ],
            [
             1,
             "#f0f921"
            ]
           ]
          },
          "colorway": [
           "#636efa",
           "#EF553B",
           "#00cc96",
           "#ab63fa",
           "#FFA15A",
           "#19d3f3",
           "#FF6692",
           "#B6E880",
           "#FF97FF",
           "#FECB52"
          ],
          "font": {
           "color": "#2a3f5f"
          },
          "geo": {
           "bgcolor": "white",
           "lakecolor": "white",
           "landcolor": "#E5ECF6",
           "showlakes": true,
           "showland": true,
           "subunitcolor": "white"
          },
          "hoverlabel": {
           "align": "left"
          },
          "hovermode": "closest",
          "mapbox": {
           "style": "light"
          },
          "paper_bgcolor": "white",
          "plot_bgcolor": "#E5ECF6",
          "polar": {
           "angularaxis": {
            "gridcolor": "white",
            "linecolor": "white",
            "ticks": ""
           },
           "bgcolor": "#E5ECF6",
           "radialaxis": {
            "gridcolor": "white",
            "linecolor": "white",
            "ticks": ""
           }
          },
          "scene": {
           "xaxis": {
            "backgroundcolor": "#E5ECF6",
            "gridcolor": "white",
            "gridwidth": 2,
            "linecolor": "white",
            "showbackground": true,
            "ticks": "",
            "zerolinecolor": "white"
           },
           "yaxis": {
            "backgroundcolor": "#E5ECF6",
            "gridcolor": "white",
            "gridwidth": 2,
            "linecolor": "white",
            "showbackground": true,
            "ticks": "",
            "zerolinecolor": "white"
           },
           "zaxis": {
            "backgroundcolor": "#E5ECF6",
            "gridcolor": "white",
            "gridwidth": 2,
            "linecolor": "white",
            "showbackground": true,
            "ticks": "",
            "zerolinecolor": "white"
           }
          },
          "shapedefaults": {
           "line": {
            "color": "#2a3f5f"
           }
          },
          "ternary": {
           "aaxis": {
            "gridcolor": "white",
            "linecolor": "white",
            "ticks": ""
           },
           "baxis": {
            "gridcolor": "white",
            "linecolor": "white",
            "ticks": ""
           },
           "bgcolor": "#E5ECF6",
           "caxis": {
            "gridcolor": "white",
            "linecolor": "white",
            "ticks": ""
           }
          },
          "title": {
           "x": 0.05
          },
          "xaxis": {
           "automargin": true,
           "gridcolor": "white",
           "linecolor": "white",
           "ticks": "",
           "title": {
            "standoff": 15
           },
           "zerolinecolor": "white",
           "zerolinewidth": 2
          },
          "yaxis": {
           "automargin": true,
           "gridcolor": "white",
           "linecolor": "white",
           "ticks": "",
           "title": {
            "standoff": 15
           },
           "zerolinecolor": "white",
           "zerolinewidth": 2
          }
         }
        },
        "title": {
         "font": {
          "color": "#4D5663"
         }
        },
        "xaxis": {
         "gridcolor": "#E1E5ED",
         "showgrid": true,
         "tickfont": {
          "color": "#4D5663"
         },
         "title": {
          "font": {
           "color": "#4D5663"
          },
          "text": ""
         },
         "zerolinecolor": "#E1E5ED"
        },
        "yaxis": {
         "gridcolor": "#E1E5ED",
         "showgrid": true,
         "tickfont": {
          "color": "#4D5663"
         },
         "title": {
          "font": {
           "color": "#4D5663"
          },
          "text": ""
         },
         "zerolinecolor": "#E1E5ED"
        }
       }
      },
      "text/html": [
       "<div>                            <div id=\"9ff0f89e-d595-4663-a420-69c22132b43d\" class=\"plotly-graph-div\" style=\"height:525px; width:100%;\"></div>            <script type=\"text/javascript\">                require([\"plotly\"], function(Plotly) {                    window.PLOTLYENV=window.PLOTLYENV || {};\n",
       "                    window.PLOTLYENV.BASE_URL='https://plot.ly';                                    if (document.getElementById(\"9ff0f89e-d595-4663-a420-69c22132b43d\")) {                    Plotly.newPlot(                        \"9ff0f89e-d595-4663-a420-69c22132b43d\",                        [{\"marker\": {\"color\": \"rgba(255, 153, 51, 0.6)\", \"line\": {\"color\": \"rgba(255, 153, 51, 1.0)\", \"width\": 1}}, \"name\": \"Total Cases\", \"orientation\": \"v\", \"text\": \"\", \"type\": \"bar\", \"x\": [\"Lakshadweep\", \"Andaman and Nicobar Islands\", \"Mizoram\", \"Dadra and Nagar Haveli and Daman and Diu\", \"Sikkim\", \"Nagaland\", \"Ladakh\", \"Meghalaya\", \"Arunachal Pradesh\", \"Manipur\", \"Tripura\", \"Chandigarh\", \"Puducherry\", \"Goa\", \"Himachal Pradesh\", \"Jammu and Kashmir\", \"Uttarakhand\", \"Jharkhand\", \"Assam\", \"Punjab\", \"Telangana\", \"Odisha\", \"Bihar\", \"Haryana\", \"Madhya Pradesh\", \"Gujarat\", \"Rajasthan\", \"Chhattisgarh\", \"West Bengal\", \"Andhra Pradesh\", \"Delhi\", \"Tamil Nadu\", \"Uttar Pradesh\", \"Karnataka\", \"Kerala\", \"Maharashtra\"], \"y\": [2504, 5816, 5879, 7378, 7577, 13569, 13758, 16617, 18063, 31001, 35025, 41923, 57427, 88028, 93889, 172551, 174867, 221489, 246847, 358186, 427960, 435513, 454464, 460198, 538165, 553172, 580846, 697902, 810955, 1084336, 1098051, 1148064, 1217952, 1474846, 1533985, 4539553]}, {\"marker\": {\"color\": \"rgba(55, 128, 191, 0.6)\", \"line\": {\"color\": \"rgba(55, 128, 191, 1.0)\", \"width\": 1}}, \"name\": \"Total Recovered\", \"orientation\": \"v\", \"text\": \"\", \"type\": \"bar\", \"x\": [\"Lakshadweep\", \"Andaman and Nicobar Islands\", \"Mizoram\", \"Dadra and Nagar Haveli and Daman and Diu\", \"Sikkim\", \"Nagaland\", \"Ladakh\", \"Meghalaya\", \"Arunachal Pradesh\", \"Manipur\", \"Tripura\", \"Chandigarh\", \"Puducherry\", \"Goa\", \"Himachal Pradesh\", \"Jammu and Kashmir\", \"Uttarakhand\", \"Jharkhand\", \"Assam\", \"Punjab\", \"Telangana\", \"Odisha\", \"Bihar\", \"Haryana\", \"Madhya Pradesh\", \"Gujarat\", \"Rajasthan\", \"Chhattisgarh\", \"West Bengal\", \"Andhra Pradesh\", \"Delhi\", \"Tamil Nadu\", \"Uttar Pradesh\", \"Karnataka\", \"Kerala\", \"Maharashtra\"], \"y\": [1329, 5606, 4857, 5151, 6154, 12183, 11937, 14917, 17038, 29376, 33505, 34806, 47645, 65984, 76335, 144154, 120350, 164278, 222397, 295988, 349692, 380400, 351162, 367317, 439968, 408368, 407243, 570995, 689466, 962250, 982922, 1021575, 896477, 1110025, 1244301, 3799266]}, {\"marker\": {\"color\": \"rgba(50, 171, 96, 0.6)\", \"line\": {\"color\": \"rgba(50, 171, 96, 1.0)\", \"width\": 1}}, \"name\": \"Total Deaths\", \"orientation\": \"v\", \"text\": \"\", \"type\": \"bar\", \"x\": [\"Lakshadweep\", \"Andaman and Nicobar Islands\", \"Mizoram\", \"Dadra and Nagar Haveli and Daman and Diu\", \"Sikkim\", \"Nagaland\", \"Ladakh\", \"Meghalaya\", \"Arunachal Pradesh\", \"Manipur\", \"Tripura\", \"Chandigarh\", \"Puducherry\", \"Goa\", \"Himachal Pradesh\", \"Jammu and Kashmir\", \"Uttarakhand\", \"Jharkhand\", \"Assam\", \"Punjab\", \"Telangana\", \"Odisha\", \"Bihar\", \"Haryana\", \"Madhya Pradesh\", \"Gujarat\", \"Rajasthan\", \"Chhattisgarh\", \"West Bengal\", \"Andhra Pradesh\", \"Delhi\", \"Tamil Nadu\", \"Uttar Pradesh\", \"Karnataka\", \"Kerala\", \"Maharashtra\"], \"y\": [1, 67, 13, 4, 143, 100, 139, 169, 58, 395, 393, 465, 793, 1146, 1407, 2253, 2502, 2395, 1255, 8772, 2208, 2082, 2480, 4021, 5424, 7010, 4084, 8061, 11248, 7928, 15377, 13933, 12238, 15306, 5260, 67985]}, {\"marker\": {\"color\": \"rgba(128, 0, 128, 0.6)\", \"line\": {\"color\": \"rgba(128, 0, 128, 1.0)\", \"width\": 1}}, \"name\": \"Active Cases\", \"orientation\": \"v\", \"text\": \"\", \"type\": \"bar\", \"x\": [\"Lakshadweep\", \"Andaman and Nicobar Islands\", \"Mizoram\", \"Dadra and Nagar Haveli and Daman and Diu\", \"Sikkim\", \"Nagaland\", \"Ladakh\", \"Meghalaya\", \"Arunachal Pradesh\", \"Manipur\", \"Tripura\", \"Chandigarh\", \"Puducherry\", \"Goa\", \"Himachal Pradesh\", \"Jammu and Kashmir\", \"Uttarakhand\", \"Jharkhand\", \"Assam\", \"Punjab\", \"Telangana\", \"Odisha\", \"Bihar\", \"Haryana\", \"Madhya Pradesh\", \"Gujarat\", \"Rajasthan\", \"Chhattisgarh\", \"West Bengal\", \"Andhra Pradesh\", \"Delhi\", \"Tamil Nadu\", \"Uttar Pradesh\", \"Karnataka\", \"Kerala\", \"Maharashtra\"], \"y\": [1167, 143, 1009, 2192, 1106, 952, 1682, 1531, 967, 1230, 1104, 6652, 8989, 20898, 16098, 26144, 48318, 54816, 21848, 53426, 76060, 53031, 100821, 88860, 92773, 137794, 169519, 118846, 110241, 114158, 99752, 112556, 309237, 349496, 284085, 670301]}],                        {\"barmode\": \"stack\", \"legend\": {\"bgcolor\": \"#F5F6F9\", \"font\": {\"color\": \"#4D5663\"}, \"traceorder\": \"normal\"}, \"paper_bgcolor\": \"#F5F6F9\", \"plot_bgcolor\": \"#F5F6F9\", \"template\": {\"data\": {\"bar\": [{\"error_x\": {\"color\": \"#2a3f5f\"}, \"error_y\": {\"color\": \"#2a3f5f\"}, \"marker\": {\"line\": {\"color\": \"#E5ECF6\", \"width\": 0.5}}, \"type\": \"bar\"}], \"barpolar\": [{\"marker\": {\"line\": {\"color\": \"#E5ECF6\", \"width\": 0.5}}, \"type\": \"barpolar\"}], \"carpet\": [{\"aaxis\": {\"endlinecolor\": \"#2a3f5f\", \"gridcolor\": \"white\", \"linecolor\": \"white\", \"minorgridcolor\": \"white\", \"startlinecolor\": \"#2a3f5f\"}, \"baxis\": {\"endlinecolor\": \"#2a3f5f\", \"gridcolor\": \"white\", \"linecolor\": \"white\", \"minorgridcolor\": \"white\", \"startlinecolor\": \"#2a3f5f\"}, \"type\": \"carpet\"}], \"choropleth\": [{\"colorbar\": {\"outlinewidth\": 0, \"ticks\": \"\"}, \"type\": \"choropleth\"}], \"contour\": [{\"colorbar\": {\"outlinewidth\": 0, \"ticks\": \"\"}, \"colorscale\": [[0.0, \"#0d0887\"], [0.1111111111111111, \"#46039f\"], [0.2222222222222222, \"#7201a8\"], [0.3333333333333333, \"#9c179e\"], [0.4444444444444444, \"#bd3786\"], [0.5555555555555556, \"#d8576b\"], [0.6666666666666666, \"#ed7953\"], [0.7777777777777778, \"#fb9f3a\"], [0.8888888888888888, \"#fdca26\"], [1.0, \"#f0f921\"]], \"type\": \"contour\"}], \"contourcarpet\": [{\"colorbar\": {\"outlinewidth\": 0, \"ticks\": \"\"}, \"type\": \"contourcarpet\"}], \"heatmap\": [{\"colorbar\": {\"outlinewidth\": 0, \"ticks\": \"\"}, \"colorscale\": [[0.0, \"#0d0887\"], [0.1111111111111111, \"#46039f\"], [0.2222222222222222, \"#7201a8\"], [0.3333333333333333, \"#9c179e\"], [0.4444444444444444, \"#bd3786\"], [0.5555555555555556, \"#d8576b\"], [0.6666666666666666, \"#ed7953\"], [0.7777777777777778, \"#fb9f3a\"], [0.8888888888888888, \"#fdca26\"], [1.0, \"#f0f921\"]], \"type\": \"heatmap\"}], \"heatmapgl\": [{\"colorbar\": {\"outlinewidth\": 0, \"ticks\": \"\"}, \"colorscale\": [[0.0, \"#0d0887\"], [0.1111111111111111, \"#46039f\"], [0.2222222222222222, \"#7201a8\"], [0.3333333333333333, \"#9c179e\"], [0.4444444444444444, \"#bd3786\"], [0.5555555555555556, \"#d8576b\"], [0.6666666666666666, \"#ed7953\"], [0.7777777777777778, \"#fb9f3a\"], [0.8888888888888888, \"#fdca26\"], [1.0, \"#f0f921\"]], \"type\": \"heatmapgl\"}], \"histogram\": [{\"marker\": {\"colorbar\": {\"outlinewidth\": 0, \"ticks\": \"\"}}, \"type\": \"histogram\"}], \"histogram2d\": [{\"colorbar\": {\"outlinewidth\": 0, \"ticks\": \"\"}, \"colorscale\": [[0.0, \"#0d0887\"], [0.1111111111111111, \"#46039f\"], [0.2222222222222222, \"#7201a8\"], [0.3333333333333333, \"#9c179e\"], [0.4444444444444444, \"#bd3786\"], [0.5555555555555556, \"#d8576b\"], [0.6666666666666666, \"#ed7953\"], [0.7777777777777778, \"#fb9f3a\"], [0.8888888888888888, \"#fdca26\"], [1.0, \"#f0f921\"]], \"type\": \"histogram2d\"}], \"histogram2dcontour\": [{\"colorbar\": {\"outlinewidth\": 0, \"ticks\": \"\"}, \"colorscale\": [[0.0, \"#0d0887\"], [0.1111111111111111, \"#46039f\"], [0.2222222222222222, \"#7201a8\"], [0.3333333333333333, \"#9c179e\"], [0.4444444444444444, \"#bd3786\"], [0.5555555555555556, \"#d8576b\"], [0.6666666666666666, \"#ed7953\"], [0.7777777777777778, \"#fb9f3a\"], [0.8888888888888888, \"#fdca26\"], [1.0, \"#f0f921\"]], \"type\": \"histogram2dcontour\"}], \"mesh3d\": [{\"colorbar\": {\"outlinewidth\": 0, \"ticks\": \"\"}, \"type\": \"mesh3d\"}], \"parcoords\": [{\"line\": {\"colorbar\": {\"outlinewidth\": 0, \"ticks\": \"\"}}, \"type\": \"parcoords\"}], \"pie\": [{\"automargin\": true, \"type\": \"pie\"}], \"scatter\": [{\"marker\": {\"colorbar\": {\"outlinewidth\": 0, \"ticks\": \"\"}}, \"type\": \"scatter\"}], \"scatter3d\": [{\"line\": {\"colorbar\": {\"outlinewidth\": 0, \"ticks\": \"\"}}, \"marker\": {\"colorbar\": {\"outlinewidth\": 0, \"ticks\": \"\"}}, \"type\": \"scatter3d\"}], \"scattercarpet\": [{\"marker\": {\"colorbar\": {\"outlinewidth\": 0, \"ticks\": \"\"}}, \"type\": \"scattercarpet\"}], \"scattergeo\": [{\"marker\": {\"colorbar\": {\"outlinewidth\": 0, \"ticks\": \"\"}}, \"type\": \"scattergeo\"}], \"scattergl\": [{\"marker\": {\"colorbar\": {\"outlinewidth\": 0, \"ticks\": \"\"}}, \"type\": \"scattergl\"}], \"scattermapbox\": [{\"marker\": {\"colorbar\": {\"outlinewidth\": 0, \"ticks\": \"\"}}, \"type\": \"scattermapbox\"}], \"scatterpolar\": [{\"marker\": {\"colorbar\": {\"outlinewidth\": 0, \"ticks\": \"\"}}, \"type\": \"scatterpolar\"}], \"scatterpolargl\": [{\"marker\": {\"colorbar\": {\"outlinewidth\": 0, \"ticks\": \"\"}}, \"type\": \"scatterpolargl\"}], \"scatterternary\": [{\"marker\": {\"colorbar\": {\"outlinewidth\": 0, \"ticks\": \"\"}}, \"type\": \"scatterternary\"}], \"surface\": [{\"colorbar\": {\"outlinewidth\": 0, \"ticks\": \"\"}, \"colorscale\": [[0.0, \"#0d0887\"], [0.1111111111111111, \"#46039f\"], [0.2222222222222222, \"#7201a8\"], [0.3333333333333333, \"#9c179e\"], [0.4444444444444444, \"#bd3786\"], [0.5555555555555556, \"#d8576b\"], [0.6666666666666666, \"#ed7953\"], [0.7777777777777778, \"#fb9f3a\"], [0.8888888888888888, \"#fdca26\"], [1.0, \"#f0f921\"]], \"type\": \"surface\"}], \"table\": [{\"cells\": {\"fill\": {\"color\": \"#EBF0F8\"}, \"line\": {\"color\": \"white\"}}, \"header\": {\"fill\": {\"color\": \"#C8D4E3\"}, \"line\": {\"color\": \"white\"}}, \"type\": \"table\"}]}, \"layout\": {\"annotationdefaults\": {\"arrowcolor\": \"#2a3f5f\", \"arrowhead\": 0, \"arrowwidth\": 1}, \"autotypenumbers\": \"strict\", \"coloraxis\": {\"colorbar\": {\"outlinewidth\": 0, \"ticks\": \"\"}}, \"colorscale\": {\"diverging\": [[0, \"#8e0152\"], [0.1, \"#c51b7d\"], [0.2, \"#de77ae\"], [0.3, \"#f1b6da\"], [0.4, \"#fde0ef\"], [0.5, \"#f7f7f7\"], [0.6, \"#e6f5d0\"], [0.7, \"#b8e186\"], [0.8, \"#7fbc41\"], [0.9, \"#4d9221\"], [1, \"#276419\"]], \"sequential\": [[0.0, \"#0d0887\"], [0.1111111111111111, \"#46039f\"], [0.2222222222222222, \"#7201a8\"], [0.3333333333333333, \"#9c179e\"], [0.4444444444444444, \"#bd3786\"], [0.5555555555555556, \"#d8576b\"], [0.6666666666666666, \"#ed7953\"], [0.7777777777777778, \"#fb9f3a\"], [0.8888888888888888, \"#fdca26\"], [1.0, \"#f0f921\"]], \"sequentialminus\": [[0.0, \"#0d0887\"], [0.1111111111111111, \"#46039f\"], [0.2222222222222222, \"#7201a8\"], [0.3333333333333333, \"#9c179e\"], [0.4444444444444444, \"#bd3786\"], [0.5555555555555556, \"#d8576b\"], [0.6666666666666666, \"#ed7953\"], [0.7777777777777778, \"#fb9f3a\"], [0.8888888888888888, \"#fdca26\"], [1.0, \"#f0f921\"]]}, \"colorway\": [\"#636efa\", \"#EF553B\", \"#00cc96\", \"#ab63fa\", \"#FFA15A\", \"#19d3f3\", \"#FF6692\", \"#B6E880\", \"#FF97FF\", \"#FECB52\"], \"font\": {\"color\": \"#2a3f5f\"}, \"geo\": {\"bgcolor\": \"white\", \"lakecolor\": \"white\", \"landcolor\": \"#E5ECF6\", \"showlakes\": true, \"showland\": true, \"subunitcolor\": \"white\"}, \"hoverlabel\": {\"align\": \"left\"}, \"hovermode\": \"closest\", \"mapbox\": {\"style\": \"light\"}, \"paper_bgcolor\": \"white\", \"plot_bgcolor\": \"#E5ECF6\", \"polar\": {\"angularaxis\": {\"gridcolor\": \"white\", \"linecolor\": \"white\", \"ticks\": \"\"}, \"bgcolor\": \"#E5ECF6\", \"radialaxis\": {\"gridcolor\": \"white\", \"linecolor\": \"white\", \"ticks\": \"\"}}, \"scene\": {\"xaxis\": {\"backgroundcolor\": \"#E5ECF6\", \"gridcolor\": \"white\", \"gridwidth\": 2, \"linecolor\": \"white\", \"showbackground\": true, \"ticks\": \"\", \"zerolinecolor\": \"white\"}, \"yaxis\": {\"backgroundcolor\": \"#E5ECF6\", \"gridcolor\": \"white\", \"gridwidth\": 2, \"linecolor\": \"white\", \"showbackground\": true, \"ticks\": \"\", \"zerolinecolor\": \"white\"}, \"zaxis\": {\"backgroundcolor\": \"#E5ECF6\", \"gridcolor\": \"white\", \"gridwidth\": 2, \"linecolor\": \"white\", \"showbackground\": true, \"ticks\": \"\", \"zerolinecolor\": \"white\"}}, \"shapedefaults\": {\"line\": {\"color\": \"#2a3f5f\"}}, \"ternary\": {\"aaxis\": {\"gridcolor\": \"white\", \"linecolor\": \"white\", \"ticks\": \"\"}, \"baxis\": {\"gridcolor\": \"white\", \"linecolor\": \"white\", \"ticks\": \"\"}, \"bgcolor\": \"#E5ECF6\", \"caxis\": {\"gridcolor\": \"white\", \"linecolor\": \"white\", \"ticks\": \"\"}}, \"title\": {\"x\": 0.05}, \"xaxis\": {\"automargin\": true, \"gridcolor\": \"white\", \"linecolor\": \"white\", \"ticks\": \"\", \"title\": {\"standoff\": 15}, \"zerolinecolor\": \"white\", \"zerolinewidth\": 2}, \"yaxis\": {\"automargin\": true, \"gridcolor\": \"white\", \"linecolor\": \"white\", \"ticks\": \"\", \"title\": {\"standoff\": 15}, \"zerolinecolor\": \"white\", \"zerolinewidth\": 2}}}, \"title\": {\"font\": {\"color\": \"#4D5663\"}}, \"xaxis\": {\"gridcolor\": \"#E1E5ED\", \"showgrid\": true, \"tickfont\": {\"color\": \"#4D5663\"}, \"title\": {\"font\": {\"color\": \"#4D5663\"}, \"text\": \"\"}, \"zerolinecolor\": \"#E1E5ED\"}, \"yaxis\": {\"gridcolor\": \"#E1E5ED\", \"showgrid\": true, \"tickfont\": {\"color\": \"#4D5663\"}, \"title\": {\"font\": {\"color\": \"#4D5663\"}, \"text\": \"\"}, \"zerolinecolor\": \"#E1E5ED\"}},                        {\"showLink\": true, \"linkText\": \"Export to plot.ly\", \"plotlyServerURL\": \"https://plot.ly\", \"responsive\": true}                    ).then(function(){\n",
       "                            \n",
       "var gd = document.getElementById('9ff0f89e-d595-4663-a420-69c22132b43d');\n",
       "var x = new MutationObserver(function (mutations, observer) {{\n",
       "        var display = window.getComputedStyle(gd).display;\n",
       "        if (!display || display === 'none') {{\n",
       "            console.log([gd, 'removed!']);\n",
       "            Plotly.purge(gd);\n",
       "            observer.disconnect();\n",
       "        }}\n",
       "}});\n",
       "\n",
       "// Listen for the removal of the full notebook cells\n",
       "var notebookContainer = gd.closest('#notebook-container');\n",
       "if (notebookContainer) {{\n",
       "    x.observe(notebookContainer, {childList: true});\n",
       "}}\n",
       "\n",
       "// Listen for the clearing of the current output cell\n",
       "var outputEl = gd.closest('.output');\n",
       "if (outputEl) {{\n",
       "    x.observe(outputEl, {childList: true});\n",
       "}}\n",
       "\n",
       "                        })                };                });            </script>        </div>"
      ]
     },
     "metadata": {},
     "output_type": "display_data"
    }
   ],
   "source": [
    "resbyloc.mean().sort_values(by=\"Total Cases\").iplot(kind=\"bar\",barmode=\"stack\")"
   ]
  },
  {
   "cell_type": "code",
   "execution_count": 8,
   "metadata": {},
   "outputs": [
    {
     "data": {
      "text/html": [
       "<div>\n",
       "<style scoped>\n",
       "    .dataframe tbody tr th:only-of-type {\n",
       "        vertical-align: middle;\n",
       "    }\n",
       "\n",
       "    .dataframe tbody tr th {\n",
       "        vertical-align: top;\n",
       "    }\n",
       "\n",
       "    .dataframe thead th {\n",
       "        text-align: right;\n",
       "    }\n",
       "</style>\n",
       "<table border=\"1\" class=\"dataframe\">\n",
       "  <thead>\n",
       "    <tr style=\"text-align: right;\">\n",
       "      <th></th>\n",
       "      <th>State</th>\n",
       "      <th>Total Cases</th>\n",
       "      <th>Total Recovered</th>\n",
       "      <th>Total Deaths</th>\n",
       "      <th>Active Cases</th>\n",
       "    </tr>\n",
       "  </thead>\n",
       "  <tbody>\n",
       "    <tr>\n",
       "      <th>31</th>\n",
       "      <td>Sikkim</td>\n",
       "      <td>7577</td>\n",
       "      <td>6154</td>\n",
       "      <td>143</td>\n",
       "      <td>1106</td>\n",
       "    </tr>\n",
       "    <tr>\n",
       "      <th>32</th>\n",
       "      <td>Andaman and Nicobar Islands</td>\n",
       "      <td>5816</td>\n",
       "      <td>5606</td>\n",
       "      <td>67</td>\n",
       "      <td>143</td>\n",
       "    </tr>\n",
       "    <tr>\n",
       "      <th>33</th>\n",
       "      <td>Mizoram</td>\n",
       "      <td>5879</td>\n",
       "      <td>4857</td>\n",
       "      <td>13</td>\n",
       "      <td>1009</td>\n",
       "    </tr>\n",
       "    <tr>\n",
       "      <th>34</th>\n",
       "      <td>Dadra and Nagar Haveli and Daman and Diu</td>\n",
       "      <td>7378</td>\n",
       "      <td>5151</td>\n",
       "      <td>4</td>\n",
       "      <td>2192</td>\n",
       "    </tr>\n",
       "    <tr>\n",
       "      <th>35</th>\n",
       "      <td>Lakshadweep</td>\n",
       "      <td>2504</td>\n",
       "      <td>1329</td>\n",
       "      <td>1</td>\n",
       "      <td>1167</td>\n",
       "    </tr>\n",
       "  </tbody>\n",
       "</table>\n",
       "</div>"
      ],
      "text/plain": [
       "                                       State  Total Cases  Total Recovered  \\\n",
       "31                                    Sikkim         7577             6154   \n",
       "32               Andaman and Nicobar Islands         5816             5606   \n",
       "33                                   Mizoram         5879             4857   \n",
       "34  Dadra and Nagar Haveli and Daman and Diu         7378             5151   \n",
       "35                               Lakshadweep         2504             1329   \n",
       "\n",
       "    Total Deaths  Active Cases  \n",
       "31           143          1106  \n",
       "32            67           143  \n",
       "33            13          1009  \n",
       "34             4          2192  \n",
       "35             1          1167  "
      ]
     },
     "execution_count": 8,
     "metadata": {},
     "output_type": "execute_result"
    }
   ],
   "source": [
    "x = df.tail(5)\n",
    "x"
   ]
  },
  {
   "cell_type": "code",
   "execution_count": 9,
   "metadata": {},
   "outputs": [
    {
     "data": {
      "image/png": "[encoded data removed]",
      "text/plain": [
       "<Figure size 360x360 with 1 Axes>"
      ]
     },
     "metadata": {
      "needs_background": "light"
     },
     "output_type": "display_data"
    }
   ],
   "source": [
    "d = sns.relplot(x = 'State', y = 'Total Cases', kind = 'line', data = x,sort = True)\n",
    "d.fig.autofmt_xdate()"
   ]
  },
  {
   "cell_type": "markdown",
   "metadata": {},
   "source": [
    "##  Heading on the Dataframe."
   ]
  },
  {
   "cell_type": "code",
   "execution_count": 10,
   "metadata": {},
   "outputs": [
    {
     "data": {
      "text/html": [
       "<style  type=\"text/css\" >\n",
       "</style><table id=\"T_34ffcd53_a9c7_11eb_bb58_485f9954c7c5\" ><caption>State-Wise COVID-19 (SARS-CoV-2) Infection Statistics Of India</caption><thead>    <tr>        <th class=\"blank level0\" ></th>        <th class=\"col_heading level0 col0\" >State</th>        <th class=\"col_heading level0 col1\" >Total Cases</th>        <th class=\"col_heading level0 col2\" >Total Recovered</th>        <th class=\"col_heading level0 col3\" >Total Deaths</th>        <th class=\"col_heading level0 col4\" >Active Cases</th>    </tr></thead><tbody>\n",
       "                <tr>\n",
       "                        <th id=\"T_34ffcd53_a9c7_11eb_bb58_485f9954c7c5level0_row0\" class=\"row_heading level0 row0\" >0</th>\n",
       "                        <td id=\"T_34ffcd53_a9c7_11eb_bb58_485f9954c7c5row0_col0\" class=\"data row0 col0\" >Maharashtra</td>\n",
       "                        <td id=\"T_34ffcd53_a9c7_11eb_bb58_485f9954c7c5row0_col1\" class=\"data row0 col1\" >4539553</td>\n",
       "                        <td id=\"T_34ffcd53_a9c7_11eb_bb58_485f9954c7c5row0_col2\" class=\"data row0 col2\" >3799266</td>\n",
       "                        <td id=\"T_34ffcd53_a9c7_11eb_bb58_485f9954c7c5row0_col3\" class=\"data row0 col3\" >67985</td>\n",
       "                        <td id=\"T_34ffcd53_a9c7_11eb_bb58_485f9954c7c5row0_col4\" class=\"data row0 col4\" >670301</td>\n",
       "            </tr>\n",
       "            <tr>\n",
       "                        <th id=\"T_34ffcd53_a9c7_11eb_bb58_485f9954c7c5level0_row1\" class=\"row_heading level0 row1\" >1</th>\n",
       "                        <td id=\"T_34ffcd53_a9c7_11eb_bb58_485f9954c7c5row1_col0\" class=\"data row1 col0\" >Kerala</td>\n",
       "                        <td id=\"T_34ffcd53_a9c7_11eb_bb58_485f9954c7c5row1_col1\" class=\"data row1 col1\" >1533985</td>\n",
       "                        <td id=\"T_34ffcd53_a9c7_11eb_bb58_485f9954c7c5row1_col2\" class=\"data row1 col2\" >1244301</td>\n",
       "                        <td id=\"T_34ffcd53_a9c7_11eb_bb58_485f9954c7c5row1_col3\" class=\"data row1 col3\" >5260</td>\n",
       "                        <td id=\"T_34ffcd53_a9c7_11eb_bb58_485f9954c7c5row1_col4\" class=\"data row1 col4\" >284085</td>\n",
       "            </tr>\n",
       "            <tr>\n",
       "                        <th id=\"T_34ffcd53_a9c7_11eb_bb58_485f9954c7c5level0_row2\" class=\"row_heading level0 row2\" >2</th>\n",
       "                        <td id=\"T_34ffcd53_a9c7_11eb_bb58_485f9954c7c5row2_col0\" class=\"data row2 col0\" >Karnataka</td>\n",
       "                        <td id=\"T_34ffcd53_a9c7_11eb_bb58_485f9954c7c5row2_col1\" class=\"data row2 col1\" >1474846</td>\n",
       "                        <td id=\"T_34ffcd53_a9c7_11eb_bb58_485f9954c7c5row2_col2\" class=\"data row2 col2\" >1110025</td>\n",
       "                        <td id=\"T_34ffcd53_a9c7_11eb_bb58_485f9954c7c5row2_col3\" class=\"data row2 col3\" >15306</td>\n",
       "                        <td id=\"T_34ffcd53_a9c7_11eb_bb58_485f9954c7c5row2_col4\" class=\"data row2 col4\" >349496</td>\n",
       "            </tr>\n",
       "            <tr>\n",
       "                        <th id=\"T_34ffcd53_a9c7_11eb_bb58_485f9954c7c5level0_row3\" class=\"row_heading level0 row3\" >3</th>\n",
       "                        <td id=\"T_34ffcd53_a9c7_11eb_bb58_485f9954c7c5row3_col0\" class=\"data row3 col0\" >Andhra Pradesh</td>\n",
       "                        <td id=\"T_34ffcd53_a9c7_11eb_bb58_485f9954c7c5row3_col1\" class=\"data row3 col1\" >1084336</td>\n",
       "                        <td id=\"T_34ffcd53_a9c7_11eb_bb58_485f9954c7c5row3_col2\" class=\"data row3 col2\" >962250</td>\n",
       "                        <td id=\"T_34ffcd53_a9c7_11eb_bb58_485f9954c7c5row3_col3\" class=\"data row3 col3\" >7928</td>\n",
       "                        <td id=\"T_34ffcd53_a9c7_11eb_bb58_485f9954c7c5row3_col4\" class=\"data row3 col4\" >114158</td>\n",
       "            </tr>\n",
       "            <tr>\n",
       "                        <th id=\"T_34ffcd53_a9c7_11eb_bb58_485f9954c7c5level0_row4\" class=\"row_heading level0 row4\" >4</th>\n",
       "                        <td id=\"T_34ffcd53_a9c7_11eb_bb58_485f9954c7c5row4_col0\" class=\"data row4 col0\" >Tamil Nadu</td>\n",
       "                        <td id=\"T_34ffcd53_a9c7_11eb_bb58_485f9954c7c5row4_col1\" class=\"data row4 col1\" >1148064</td>\n",
       "                        <td id=\"T_34ffcd53_a9c7_11eb_bb58_485f9954c7c5row4_col2\" class=\"data row4 col2\" >1021575</td>\n",
       "                        <td id=\"T_34ffcd53_a9c7_11eb_bb58_485f9954c7c5row4_col3\" class=\"data row4 col3\" >13933</td>\n",
       "                        <td id=\"T_34ffcd53_a9c7_11eb_bb58_485f9954c7c5row4_col4\" class=\"data row4 col4\" >112556</td>\n",
       "            </tr>\n",
       "            <tr>\n",
       "                        <th id=\"T_34ffcd53_a9c7_11eb_bb58_485f9954c7c5level0_row5\" class=\"row_heading level0 row5\" >5</th>\n",
       "                        <td id=\"T_34ffcd53_a9c7_11eb_bb58_485f9954c7c5row5_col0\" class=\"data row5 col0\" >Delhi</td>\n",
       "                        <td id=\"T_34ffcd53_a9c7_11eb_bb58_485f9954c7c5row5_col1\" class=\"data row5 col1\" >1098051</td>\n",
       "                        <td id=\"T_34ffcd53_a9c7_11eb_bb58_485f9954c7c5row5_col2\" class=\"data row5 col2\" >982922</td>\n",
       "                        <td id=\"T_34ffcd53_a9c7_11eb_bb58_485f9954c7c5row5_col3\" class=\"data row5 col3\" >15377</td>\n",
       "                        <td id=\"T_34ffcd53_a9c7_11eb_bb58_485f9954c7c5row5_col4\" class=\"data row5 col4\" >99752</td>\n",
       "            </tr>\n",
       "            <tr>\n",
       "                        <th id=\"T_34ffcd53_a9c7_11eb_bb58_485f9954c7c5level0_row6\" class=\"row_heading level0 row6\" >6</th>\n",
       "                        <td id=\"T_34ffcd53_a9c7_11eb_bb58_485f9954c7c5row6_col0\" class=\"data row6 col0\" >Uttar Pradesh</td>\n",
       "                        <td id=\"T_34ffcd53_a9c7_11eb_bb58_485f9954c7c5row6_col1\" class=\"data row6 col1\" >1217952</td>\n",
       "                        <td id=\"T_34ffcd53_a9c7_11eb_bb58_485f9954c7c5row6_col2\" class=\"data row6 col2\" >896477</td>\n",
       "                        <td id=\"T_34ffcd53_a9c7_11eb_bb58_485f9954c7c5row6_col3\" class=\"data row6 col3\" >12238</td>\n",
       "                        <td id=\"T_34ffcd53_a9c7_11eb_bb58_485f9954c7c5row6_col4\" class=\"data row6 col4\" >309237</td>\n",
       "            </tr>\n",
       "            <tr>\n",
       "                        <th id=\"T_34ffcd53_a9c7_11eb_bb58_485f9954c7c5level0_row7\" class=\"row_heading level0 row7\" >7</th>\n",
       "                        <td id=\"T_34ffcd53_a9c7_11eb_bb58_485f9954c7c5row7_col0\" class=\"data row7 col0\" >West Bengal</td>\n",
       "                        <td id=\"T_34ffcd53_a9c7_11eb_bb58_485f9954c7c5row7_col1\" class=\"data row7 col1\" >810955</td>\n",
       "                        <td id=\"T_34ffcd53_a9c7_11eb_bb58_485f9954c7c5row7_col2\" class=\"data row7 col2\" >689466</td>\n",
       "                        <td id=\"T_34ffcd53_a9c7_11eb_bb58_485f9954c7c5row7_col3\" class=\"data row7 col3\" >11248</td>\n",
       "                        <td id=\"T_34ffcd53_a9c7_11eb_bb58_485f9954c7c5row7_col4\" class=\"data row7 col4\" >110241</td>\n",
       "            </tr>\n",
       "            <tr>\n",
       "                        <th id=\"T_34ffcd53_a9c7_11eb_bb58_485f9954c7c5level0_row8\" class=\"row_heading level0 row8\" >8</th>\n",
       "                        <td id=\"T_34ffcd53_a9c7_11eb_bb58_485f9954c7c5row8_col0\" class=\"data row8 col0\" >Odisha</td>\n",
       "                        <td id=\"T_34ffcd53_a9c7_11eb_bb58_485f9954c7c5row8_col1\" class=\"data row8 col1\" >435513</td>\n",
       "                        <td id=\"T_34ffcd53_a9c7_11eb_bb58_485f9954c7c5row8_col2\" class=\"data row8 col2\" >380400</td>\n",
       "                        <td id=\"T_34ffcd53_a9c7_11eb_bb58_485f9954c7c5row8_col3\" class=\"data row8 col3\" >2082</td>\n",
       "                        <td id=\"T_34ffcd53_a9c7_11eb_bb58_485f9954c7c5row8_col4\" class=\"data row8 col4\" >53031</td>\n",
       "            </tr>\n",
       "            <tr>\n",
       "                        <th id=\"T_34ffcd53_a9c7_11eb_bb58_485f9954c7c5level0_row9\" class=\"row_heading level0 row9\" >9</th>\n",
       "                        <td id=\"T_34ffcd53_a9c7_11eb_bb58_485f9954c7c5row9_col0\" class=\"data row9 col0\" >Rajasthan</td>\n",
       "                        <td id=\"T_34ffcd53_a9c7_11eb_bb58_485f9954c7c5row9_col1\" class=\"data row9 col1\" >580846</td>\n",
       "                        <td id=\"T_34ffcd53_a9c7_11eb_bb58_485f9954c7c5row9_col2\" class=\"data row9 col2\" >407243</td>\n",
       "                        <td id=\"T_34ffcd53_a9c7_11eb_bb58_485f9954c7c5row9_col3\" class=\"data row9 col3\" >4084</td>\n",
       "                        <td id=\"T_34ffcd53_a9c7_11eb_bb58_485f9954c7c5row9_col4\" class=\"data row9 col4\" >169519</td>\n",
       "            </tr>\n",
       "            <tr>\n",
       "                        <th id=\"T_34ffcd53_a9c7_11eb_bb58_485f9954c7c5level0_row10\" class=\"row_heading level0 row10\" >10</th>\n",
       "                        <td id=\"T_34ffcd53_a9c7_11eb_bb58_485f9954c7c5row10_col0\" class=\"data row10 col0\" >Chhattisgarh</td>\n",
       "                        <td id=\"T_34ffcd53_a9c7_11eb_bb58_485f9954c7c5row10_col1\" class=\"data row10 col1\" >697902</td>\n",
       "                        <td id=\"T_34ffcd53_a9c7_11eb_bb58_485f9954c7c5row10_col2\" class=\"data row10 col2\" >570995</td>\n",
       "                        <td id=\"T_34ffcd53_a9c7_11eb_bb58_485f9954c7c5row10_col3\" class=\"data row10 col3\" >8061</td>\n",
       "                        <td id=\"T_34ffcd53_a9c7_11eb_bb58_485f9954c7c5row10_col4\" class=\"data row10 col4\" >118846</td>\n",
       "            </tr>\n",
       "            <tr>\n",
       "                        <th id=\"T_34ffcd53_a9c7_11eb_bb58_485f9954c7c5level0_row11\" class=\"row_heading level0 row11\" >11</th>\n",
       "                        <td id=\"T_34ffcd53_a9c7_11eb_bb58_485f9954c7c5row11_col0\" class=\"data row11 col0\" >Telangana</td>\n",
       "                        <td id=\"T_34ffcd53_a9c7_11eb_bb58_485f9954c7c5row11_col1\" class=\"data row11 col1\" >427960</td>\n",
       "                        <td id=\"T_34ffcd53_a9c7_11eb_bb58_485f9954c7c5row11_col2\" class=\"data row11 col2\" >349692</td>\n",
       "                        <td id=\"T_34ffcd53_a9c7_11eb_bb58_485f9954c7c5row11_col3\" class=\"data row11 col3\" >2208</td>\n",
       "                        <td id=\"T_34ffcd53_a9c7_11eb_bb58_485f9954c7c5row11_col4\" class=\"data row11 col4\" >76060</td>\n",
       "            </tr>\n",
       "            <tr>\n",
       "                        <th id=\"T_34ffcd53_a9c7_11eb_bb58_485f9954c7c5level0_row12\" class=\"row_heading level0 row12\" >12</th>\n",
       "                        <td id=\"T_34ffcd53_a9c7_11eb_bb58_485f9954c7c5row12_col0\" class=\"data row12 col0\" >Haryana</td>\n",
       "                        <td id=\"T_34ffcd53_a9c7_11eb_bb58_485f9954c7c5row12_col1\" class=\"data row12 col1\" >460198</td>\n",
       "                        <td id=\"T_34ffcd53_a9c7_11eb_bb58_485f9954c7c5row12_col2\" class=\"data row12 col2\" >367317</td>\n",
       "                        <td id=\"T_34ffcd53_a9c7_11eb_bb58_485f9954c7c5row12_col3\" class=\"data row12 col3\" >4021</td>\n",
       "                        <td id=\"T_34ffcd53_a9c7_11eb_bb58_485f9954c7c5row12_col4\" class=\"data row12 col4\" >88860</td>\n",
       "            </tr>\n",
       "            <tr>\n",
       "                        <th id=\"T_34ffcd53_a9c7_11eb_bb58_485f9954c7c5level0_row13\" class=\"row_heading level0 row13\" >13</th>\n",
       "                        <td id=\"T_34ffcd53_a9c7_11eb_bb58_485f9954c7c5row13_col0\" class=\"data row13 col0\" >Gujarat</td>\n",
       "                        <td id=\"T_34ffcd53_a9c7_11eb_bb58_485f9954c7c5row13_col1\" class=\"data row13 col1\" >553172</td>\n",
       "                        <td id=\"T_34ffcd53_a9c7_11eb_bb58_485f9954c7c5row13_col2\" class=\"data row13 col2\" >408368</td>\n",
       "                        <td id=\"T_34ffcd53_a9c7_11eb_bb58_485f9954c7c5row13_col3\" class=\"data row13 col3\" >7010</td>\n",
       "                        <td id=\"T_34ffcd53_a9c7_11eb_bb58_485f9954c7c5row13_col4\" class=\"data row13 col4\" >137794</td>\n",
       "            </tr>\n",
       "            <tr>\n",
       "                        <th id=\"T_34ffcd53_a9c7_11eb_bb58_485f9954c7c5level0_row14\" class=\"row_heading level0 row14\" >14</th>\n",
       "                        <td id=\"T_34ffcd53_a9c7_11eb_bb58_485f9954c7c5row14_col0\" class=\"data row14 col0\" >Bihar</td>\n",
       "                        <td id=\"T_34ffcd53_a9c7_11eb_bb58_485f9954c7c5row14_col1\" class=\"data row14 col1\" >454464</td>\n",
       "                        <td id=\"T_34ffcd53_a9c7_11eb_bb58_485f9954c7c5row14_col2\" class=\"data row14 col2\" >351162</td>\n",
       "                        <td id=\"T_34ffcd53_a9c7_11eb_bb58_485f9954c7c5row14_col3\" class=\"data row14 col3\" >2480</td>\n",
       "                        <td id=\"T_34ffcd53_a9c7_11eb_bb58_485f9954c7c5row14_col4\" class=\"data row14 col4\" >100821</td>\n",
       "            </tr>\n",
       "            <tr>\n",
       "                        <th id=\"T_34ffcd53_a9c7_11eb_bb58_485f9954c7c5level0_row15\" class=\"row_heading level0 row15\" >15</th>\n",
       "                        <td id=\"T_34ffcd53_a9c7_11eb_bb58_485f9954c7c5row15_col0\" class=\"data row15 col0\" >Madhya Pradesh</td>\n",
       "                        <td id=\"T_34ffcd53_a9c7_11eb_bb58_485f9954c7c5row15_col1\" class=\"data row15 col1\" >538165</td>\n",
       "                        <td id=\"T_34ffcd53_a9c7_11eb_bb58_485f9954c7c5row15_col2\" class=\"data row15 col2\" >439968</td>\n",
       "                        <td id=\"T_34ffcd53_a9c7_11eb_bb58_485f9954c7c5row15_col3\" class=\"data row15 col3\" >5424</td>\n",
       "                        <td id=\"T_34ffcd53_a9c7_11eb_bb58_485f9954c7c5row15_col4\" class=\"data row15 col4\" >92773</td>\n",
       "            </tr>\n",
       "            <tr>\n",
       "                        <th id=\"T_34ffcd53_a9c7_11eb_bb58_485f9954c7c5level0_row16\" class=\"row_heading level0 row16\" >16</th>\n",
       "                        <td id=\"T_34ffcd53_a9c7_11eb_bb58_485f9954c7c5row16_col0\" class=\"data row16 col0\" >Assam</td>\n",
       "                        <td id=\"T_34ffcd53_a9c7_11eb_bb58_485f9954c7c5row16_col1\" class=\"data row16 col1\" >246847</td>\n",
       "                        <td id=\"T_34ffcd53_a9c7_11eb_bb58_485f9954c7c5row16_col2\" class=\"data row16 col2\" >222397</td>\n",
       "                        <td id=\"T_34ffcd53_a9c7_11eb_bb58_485f9954c7c5row16_col3\" class=\"data row16 col3\" >1255</td>\n",
       "                        <td id=\"T_34ffcd53_a9c7_11eb_bb58_485f9954c7c5row16_col4\" class=\"data row16 col4\" >21848</td>\n",
       "            </tr>\n",
       "            <tr>\n",
       "                        <th id=\"T_34ffcd53_a9c7_11eb_bb58_485f9954c7c5level0_row17\" class=\"row_heading level0 row17\" >17</th>\n",
       "                        <td id=\"T_34ffcd53_a9c7_11eb_bb58_485f9954c7c5row17_col0\" class=\"data row17 col0\" >Punjab</td>\n",
       "                        <td id=\"T_34ffcd53_a9c7_11eb_bb58_485f9954c7c5row17_col1\" class=\"data row17 col1\" >358186</td>\n",
       "                        <td id=\"T_34ffcd53_a9c7_11eb_bb58_485f9954c7c5row17_col2\" class=\"data row17 col2\" >295988</td>\n",
       "                        <td id=\"T_34ffcd53_a9c7_11eb_bb58_485f9954c7c5row17_col3\" class=\"data row17 col3\" >8772</td>\n",
       "                        <td id=\"T_34ffcd53_a9c7_11eb_bb58_485f9954c7c5row17_col4\" class=\"data row17 col4\" >53426</td>\n",
       "            </tr>\n",
       "            <tr>\n",
       "                        <th id=\"T_34ffcd53_a9c7_11eb_bb58_485f9954c7c5level0_row18\" class=\"row_heading level0 row18\" >18</th>\n",
       "                        <td id=\"T_34ffcd53_a9c7_11eb_bb58_485f9954c7c5row18_col0\" class=\"data row18 col0\" >Jammu and Kashmir</td>\n",
       "                        <td id=\"T_34ffcd53_a9c7_11eb_bb58_485f9954c7c5row18_col1\" class=\"data row18 col1\" >172551</td>\n",
       "                        <td id=\"T_34ffcd53_a9c7_11eb_bb58_485f9954c7c5row18_col2\" class=\"data row18 col2\" >144154</td>\n",
       "                        <td id=\"T_34ffcd53_a9c7_11eb_bb58_485f9954c7c5row18_col3\" class=\"data row18 col3\" >2253</td>\n",
       "                        <td id=\"T_34ffcd53_a9c7_11eb_bb58_485f9954c7c5row18_col4\" class=\"data row18 col4\" >26144</td>\n",
       "            </tr>\n",
       "            <tr>\n",
       "                        <th id=\"T_34ffcd53_a9c7_11eb_bb58_485f9954c7c5level0_row19\" class=\"row_heading level0 row19\" >19</th>\n",
       "                        <td id=\"T_34ffcd53_a9c7_11eb_bb58_485f9954c7c5row19_col0\" class=\"data row19 col0\" >Jharkhand</td>\n",
       "                        <td id=\"T_34ffcd53_a9c7_11eb_bb58_485f9954c7c5row19_col1\" class=\"data row19 col1\" >221489</td>\n",
       "                        <td id=\"T_34ffcd53_a9c7_11eb_bb58_485f9954c7c5row19_col2\" class=\"data row19 col2\" >164278</td>\n",
       "                        <td id=\"T_34ffcd53_a9c7_11eb_bb58_485f9954c7c5row19_col3\" class=\"data row19 col3\" >2395</td>\n",
       "                        <td id=\"T_34ffcd53_a9c7_11eb_bb58_485f9954c7c5row19_col4\" class=\"data row19 col4\" >54816</td>\n",
       "            </tr>\n",
       "            <tr>\n",
       "                        <th id=\"T_34ffcd53_a9c7_11eb_bb58_485f9954c7c5level0_row20\" class=\"row_heading level0 row20\" >20</th>\n",
       "                        <td id=\"T_34ffcd53_a9c7_11eb_bb58_485f9954c7c5row20_col0\" class=\"data row20 col0\" >Uttarakhand</td>\n",
       "                        <td id=\"T_34ffcd53_a9c7_11eb_bb58_485f9954c7c5row20_col1\" class=\"data row20 col1\" >174867</td>\n",
       "                        <td id=\"T_34ffcd53_a9c7_11eb_bb58_485f9954c7c5row20_col2\" class=\"data row20 col2\" >120350</td>\n",
       "                        <td id=\"T_34ffcd53_a9c7_11eb_bb58_485f9954c7c5row20_col3\" class=\"data row20 col3\" >2502</td>\n",
       "                        <td id=\"T_34ffcd53_a9c7_11eb_bb58_485f9954c7c5row20_col4\" class=\"data row20 col4\" >48318</td>\n",
       "            </tr>\n",
       "            <tr>\n",
       "                        <th id=\"T_34ffcd53_a9c7_11eb_bb58_485f9954c7c5level0_row21\" class=\"row_heading level0 row21\" >21</th>\n",
       "                        <td id=\"T_34ffcd53_a9c7_11eb_bb58_485f9954c7c5row21_col0\" class=\"data row21 col0\" >Himachal Pradesh</td>\n",
       "                        <td id=\"T_34ffcd53_a9c7_11eb_bb58_485f9954c7c5row21_col1\" class=\"data row21 col1\" >93889</td>\n",
       "                        <td id=\"T_34ffcd53_a9c7_11eb_bb58_485f9954c7c5row21_col2\" class=\"data row21 col2\" >76335</td>\n",
       "                        <td id=\"T_34ffcd53_a9c7_11eb_bb58_485f9954c7c5row21_col3\" class=\"data row21 col3\" >1407</td>\n",
       "                        <td id=\"T_34ffcd53_a9c7_11eb_bb58_485f9954c7c5row21_col4\" class=\"data row21 col4\" >16098</td>\n",
       "            </tr>\n",
       "            <tr>\n",
       "                        <th id=\"T_34ffcd53_a9c7_11eb_bb58_485f9954c7c5level0_row22\" class=\"row_heading level0 row22\" >22</th>\n",
       "                        <td id=\"T_34ffcd53_a9c7_11eb_bb58_485f9954c7c5row22_col0\" class=\"data row22 col0\" >Goa</td>\n",
       "                        <td id=\"T_34ffcd53_a9c7_11eb_bb58_485f9954c7c5row22_col1\" class=\"data row22 col1\" >88028</td>\n",
       "                        <td id=\"T_34ffcd53_a9c7_11eb_bb58_485f9954c7c5row22_col2\" class=\"data row22 col2\" >65984</td>\n",
       "                        <td id=\"T_34ffcd53_a9c7_11eb_bb58_485f9954c7c5row22_col3\" class=\"data row22 col3\" >1146</td>\n",
       "                        <td id=\"T_34ffcd53_a9c7_11eb_bb58_485f9954c7c5row22_col4\" class=\"data row22 col4\" >20898</td>\n",
       "            </tr>\n",
       "            <tr>\n",
       "                        <th id=\"T_34ffcd53_a9c7_11eb_bb58_485f9954c7c5level0_row23\" class=\"row_heading level0 row23\" >23</th>\n",
       "                        <td id=\"T_34ffcd53_a9c7_11eb_bb58_485f9954c7c5row23_col0\" class=\"data row23 col0\" >Puducherry</td>\n",
       "                        <td id=\"T_34ffcd53_a9c7_11eb_bb58_485f9954c7c5row23_col1\" class=\"data row23 col1\" >57427</td>\n",
       "                        <td id=\"T_34ffcd53_a9c7_11eb_bb58_485f9954c7c5row23_col2\" class=\"data row23 col2\" >47645</td>\n",
       "                        <td id=\"T_34ffcd53_a9c7_11eb_bb58_485f9954c7c5row23_col3\" class=\"data row23 col3\" >793</td>\n",
       "                        <td id=\"T_34ffcd53_a9c7_11eb_bb58_485f9954c7c5row23_col4\" class=\"data row23 col4\" >8989</td>\n",
       "            </tr>\n",
       "            <tr>\n",
       "                        <th id=\"T_34ffcd53_a9c7_11eb_bb58_485f9954c7c5level0_row24\" class=\"row_heading level0 row24\" >24</th>\n",
       "                        <td id=\"T_34ffcd53_a9c7_11eb_bb58_485f9954c7c5row24_col0\" class=\"data row24 col0\" >Tripura</td>\n",
       "                        <td id=\"T_34ffcd53_a9c7_11eb_bb58_485f9954c7c5row24_col1\" class=\"data row24 col1\" >35025</td>\n",
       "                        <td id=\"T_34ffcd53_a9c7_11eb_bb58_485f9954c7c5row24_col2\" class=\"data row24 col2\" >33505</td>\n",
       "                        <td id=\"T_34ffcd53_a9c7_11eb_bb58_485f9954c7c5row24_col3\" class=\"data row24 col3\" >393</td>\n",
       "                        <td id=\"T_34ffcd53_a9c7_11eb_bb58_485f9954c7c5row24_col4\" class=\"data row24 col4\" >1104</td>\n",
       "            </tr>\n",
       "            <tr>\n",
       "                        <th id=\"T_34ffcd53_a9c7_11eb_bb58_485f9954c7c5level0_row25\" class=\"row_heading level0 row25\" >25</th>\n",
       "                        <td id=\"T_34ffcd53_a9c7_11eb_bb58_485f9954c7c5row25_col0\" class=\"data row25 col0\" >Manipur</td>\n",
       "                        <td id=\"T_34ffcd53_a9c7_11eb_bb58_485f9954c7c5row25_col1\" class=\"data row25 col1\" >31001</td>\n",
       "                        <td id=\"T_34ffcd53_a9c7_11eb_bb58_485f9954c7c5row25_col2\" class=\"data row25 col2\" >29376</td>\n",
       "                        <td id=\"T_34ffcd53_a9c7_11eb_bb58_485f9954c7c5row25_col3\" class=\"data row25 col3\" >395</td>\n",
       "                        <td id=\"T_34ffcd53_a9c7_11eb_bb58_485f9954c7c5row25_col4\" class=\"data row25 col4\" >1230</td>\n",
       "            </tr>\n",
       "            <tr>\n",
       "                        <th id=\"T_34ffcd53_a9c7_11eb_bb58_485f9954c7c5level0_row26\" class=\"row_heading level0 row26\" >26</th>\n",
       "                        <td id=\"T_34ffcd53_a9c7_11eb_bb58_485f9954c7c5row26_col0\" class=\"data row26 col0\" >Chandigarh</td>\n",
       "                        <td id=\"T_34ffcd53_a9c7_11eb_bb58_485f9954c7c5row26_col1\" class=\"data row26 col1\" >41923</td>\n",
       "                        <td id=\"T_34ffcd53_a9c7_11eb_bb58_485f9954c7c5row26_col2\" class=\"data row26 col2\" >34806</td>\n",
       "                        <td id=\"T_34ffcd53_a9c7_11eb_bb58_485f9954c7c5row26_col3\" class=\"data row26 col3\" >465</td>\n",
       "                        <td id=\"T_34ffcd53_a9c7_11eb_bb58_485f9954c7c5row26_col4\" class=\"data row26 col4\" >6652</td>\n",
       "            </tr>\n",
       "            <tr>\n",
       "                        <th id=\"T_34ffcd53_a9c7_11eb_bb58_485f9954c7c5level0_row27\" class=\"row_heading level0 row27\" >27</th>\n",
       "                        <td id=\"T_34ffcd53_a9c7_11eb_bb58_485f9954c7c5row27_col0\" class=\"data row27 col0\" >Arunachal Pradesh</td>\n",
       "                        <td id=\"T_34ffcd53_a9c7_11eb_bb58_485f9954c7c5row27_col1\" class=\"data row27 col1\" >18063</td>\n",
       "                        <td id=\"T_34ffcd53_a9c7_11eb_bb58_485f9954c7c5row27_col2\" class=\"data row27 col2\" >17038</td>\n",
       "                        <td id=\"T_34ffcd53_a9c7_11eb_bb58_485f9954c7c5row27_col3\" class=\"data row27 col3\" >58</td>\n",
       "                        <td id=\"T_34ffcd53_a9c7_11eb_bb58_485f9954c7c5row27_col4\" class=\"data row27 col4\" >967</td>\n",
       "            </tr>\n",
       "            <tr>\n",
       "                        <th id=\"T_34ffcd53_a9c7_11eb_bb58_485f9954c7c5level0_row28\" class=\"row_heading level0 row28\" >28</th>\n",
       "                        <td id=\"T_34ffcd53_a9c7_11eb_bb58_485f9954c7c5row28_col0\" class=\"data row28 col0\" >Meghalaya</td>\n",
       "                        <td id=\"T_34ffcd53_a9c7_11eb_bb58_485f9954c7c5row28_col1\" class=\"data row28 col1\" >16617</td>\n",
       "                        <td id=\"T_34ffcd53_a9c7_11eb_bb58_485f9954c7c5row28_col2\" class=\"data row28 col2\" >14917</td>\n",
       "                        <td id=\"T_34ffcd53_a9c7_11eb_bb58_485f9954c7c5row28_col3\" class=\"data row28 col3\" >169</td>\n",
       "                        <td id=\"T_34ffcd53_a9c7_11eb_bb58_485f9954c7c5row28_col4\" class=\"data row28 col4\" >1531</td>\n",
       "            </tr>\n",
       "            <tr>\n",
       "                        <th id=\"T_34ffcd53_a9c7_11eb_bb58_485f9954c7c5level0_row29\" class=\"row_heading level0 row29\" >29</th>\n",
       "                        <td id=\"T_34ffcd53_a9c7_11eb_bb58_485f9954c7c5row29_col0\" class=\"data row29 col0\" >Nagaland</td>\n",
       "                        <td id=\"T_34ffcd53_a9c7_11eb_bb58_485f9954c7c5row29_col1\" class=\"data row29 col1\" >13569</td>\n",
       "                        <td id=\"T_34ffcd53_a9c7_11eb_bb58_485f9954c7c5row29_col2\" class=\"data row29 col2\" >12183</td>\n",
       "                        <td id=\"T_34ffcd53_a9c7_11eb_bb58_485f9954c7c5row29_col3\" class=\"data row29 col3\" >100</td>\n",
       "                        <td id=\"T_34ffcd53_a9c7_11eb_bb58_485f9954c7c5row29_col4\" class=\"data row29 col4\" >952</td>\n",
       "            </tr>\n",
       "            <tr>\n",
       "                        <th id=\"T_34ffcd53_a9c7_11eb_bb58_485f9954c7c5level0_row30\" class=\"row_heading level0 row30\" >30</th>\n",
       "                        <td id=\"T_34ffcd53_a9c7_11eb_bb58_485f9954c7c5row30_col0\" class=\"data row30 col0\" >Ladakh</td>\n",
       "                        <td id=\"T_34ffcd53_a9c7_11eb_bb58_485f9954c7c5row30_col1\" class=\"data row30 col1\" >13758</td>\n",
       "                        <td id=\"T_34ffcd53_a9c7_11eb_bb58_485f9954c7c5row30_col2\" class=\"data row30 col2\" >11937</td>\n",
       "                        <td id=\"T_34ffcd53_a9c7_11eb_bb58_485f9954c7c5row30_col3\" class=\"data row30 col3\" >139</td>\n",
       "                        <td id=\"T_34ffcd53_a9c7_11eb_bb58_485f9954c7c5row30_col4\" class=\"data row30 col4\" >1682</td>\n",
       "            </tr>\n",
       "            <tr>\n",
       "                        <th id=\"T_34ffcd53_a9c7_11eb_bb58_485f9954c7c5level0_row31\" class=\"row_heading level0 row31\" >31</th>\n",
       "                        <td id=\"T_34ffcd53_a9c7_11eb_bb58_485f9954c7c5row31_col0\" class=\"data row31 col0\" >Sikkim</td>\n",
       "                        <td id=\"T_34ffcd53_a9c7_11eb_bb58_485f9954c7c5row31_col1\" class=\"data row31 col1\" >7577</td>\n",
       "                        <td id=\"T_34ffcd53_a9c7_11eb_bb58_485f9954c7c5row31_col2\" class=\"data row31 col2\" >6154</td>\n",
       "                        <td id=\"T_34ffcd53_a9c7_11eb_bb58_485f9954c7c5row31_col3\" class=\"data row31 col3\" >143</td>\n",
       "                        <td id=\"T_34ffcd53_a9c7_11eb_bb58_485f9954c7c5row31_col4\" class=\"data row31 col4\" >1106</td>\n",
       "            </tr>\n",
       "            <tr>\n",
       "                        <th id=\"T_34ffcd53_a9c7_11eb_bb58_485f9954c7c5level0_row32\" class=\"row_heading level0 row32\" >32</th>\n",
       "                        <td id=\"T_34ffcd53_a9c7_11eb_bb58_485f9954c7c5row32_col0\" class=\"data row32 col0\" >Andaman and Nicobar Islands</td>\n",
       "                        <td id=\"T_34ffcd53_a9c7_11eb_bb58_485f9954c7c5row32_col1\" class=\"data row32 col1\" >5816</td>\n",
       "                        <td id=\"T_34ffcd53_a9c7_11eb_bb58_485f9954c7c5row32_col2\" class=\"data row32 col2\" >5606</td>\n",
       "                        <td id=\"T_34ffcd53_a9c7_11eb_bb58_485f9954c7c5row32_col3\" class=\"data row32 col3\" >67</td>\n",
       "                        <td id=\"T_34ffcd53_a9c7_11eb_bb58_485f9954c7c5row32_col4\" class=\"data row32 col4\" >143</td>\n",
       "            </tr>\n",
       "            <tr>\n",
       "                        <th id=\"T_34ffcd53_a9c7_11eb_bb58_485f9954c7c5level0_row33\" class=\"row_heading level0 row33\" >33</th>\n",
       "                        <td id=\"T_34ffcd53_a9c7_11eb_bb58_485f9954c7c5row33_col0\" class=\"data row33 col0\" >Mizoram</td>\n",
       "                        <td id=\"T_34ffcd53_a9c7_11eb_bb58_485f9954c7c5row33_col1\" class=\"data row33 col1\" >5879</td>\n",
       "                        <td id=\"T_34ffcd53_a9c7_11eb_bb58_485f9954c7c5row33_col2\" class=\"data row33 col2\" >4857</td>\n",
       "                        <td id=\"T_34ffcd53_a9c7_11eb_bb58_485f9954c7c5row33_col3\" class=\"data row33 col3\" >13</td>\n",
       "                        <td id=\"T_34ffcd53_a9c7_11eb_bb58_485f9954c7c5row33_col4\" class=\"data row33 col4\" >1009</td>\n",
       "            </tr>\n",
       "            <tr>\n",
       "                        <th id=\"T_34ffcd53_a9c7_11eb_bb58_485f9954c7c5level0_row34\" class=\"row_heading level0 row34\" >34</th>\n",
       "                        <td id=\"T_34ffcd53_a9c7_11eb_bb58_485f9954c7c5row34_col0\" class=\"data row34 col0\" >Dadra and Nagar Haveli and Daman and Diu</td>\n",
       "                        <td id=\"T_34ffcd53_a9c7_11eb_bb58_485f9954c7c5row34_col1\" class=\"data row34 col1\" >7378</td>\n",
       "                        <td id=\"T_34ffcd53_a9c7_11eb_bb58_485f9954c7c5row34_col2\" class=\"data row34 col2\" >5151</td>\n",
       "                        <td id=\"T_34ffcd53_a9c7_11eb_bb58_485f9954c7c5row34_col3\" class=\"data row34 col3\" >4</td>\n",
       "                        <td id=\"T_34ffcd53_a9c7_11eb_bb58_485f9954c7c5row34_col4\" class=\"data row34 col4\" >2192</td>\n",
       "            </tr>\n",
       "            <tr>\n",
       "                        <th id=\"T_34ffcd53_a9c7_11eb_bb58_485f9954c7c5level0_row35\" class=\"row_heading level0 row35\" >35</th>\n",
       "                        <td id=\"T_34ffcd53_a9c7_11eb_bb58_485f9954c7c5row35_col0\" class=\"data row35 col0\" >Lakshadweep</td>\n",
       "                        <td id=\"T_34ffcd53_a9c7_11eb_bb58_485f9954c7c5row35_col1\" class=\"data row35 col1\" >2504</td>\n",
       "                        <td id=\"T_34ffcd53_a9c7_11eb_bb58_485f9954c7c5row35_col2\" class=\"data row35 col2\" >1329</td>\n",
       "                        <td id=\"T_34ffcd53_a9c7_11eb_bb58_485f9954c7c5row35_col3\" class=\"data row35 col3\" >1</td>\n",
       "                        <td id=\"T_34ffcd53_a9c7_11eb_bb58_485f9954c7c5row35_col4\" class=\"data row35 col4\" >1167</td>\n",
       "            </tr>\n",
       "    </tbody></table>"
      ],
      "text/plain": [
       "<pandas.io.formats.style.Styler at 0x27113202d60>"
      ]
     },
     "execution_count": 10,
     "metadata": {},
     "output_type": "execute_result"
    }
   ],
   "source": [
    "df.style.set_caption('State-Wise COVID-19 (SARS-CoV-2) Infection Statistics Of India')"
   ]
  },
  {
   "cell_type": "code",
   "execution_count": 11,
   "metadata": {},
   "outputs": [
    {
     "name": "stdout",
     "output_type": "stream",
     "text": [
      "<class 'pandas.core.frame.DataFrame'>\n",
      "RangeIndex: 36 entries, 0 to 35\n",
      "Data columns (total 5 columns):\n",
      " #   Column           Non-Null Count  Dtype \n",
      "---  ------           --------------  ----- \n",
      " 0   State            36 non-null     object\n",
      " 1   Total Cases      36 non-null     int64 \n",
      " 2   Total Recovered  36 non-null     int64 \n",
      " 3   Total Deaths     36 non-null     int64 \n",
      " 4   Active Cases     36 non-null     int64 \n",
      "dtypes: int64(4), object(1)\n",
      "memory usage: 1.5+ KB\n"
     ]
    }
   ],
   "source": [
    "df.info()"
   ]
  },
  {
   "cell_type": "code",
   "execution_count": 12,
   "metadata": {},
   "outputs": [
    {
     "data": {
      "text/plain": [
       "State              0\n",
       "Total Cases        0\n",
       "Total Recovered    0\n",
       "Total Deaths       0\n",
       "Active Cases       0\n",
       "dtype: int64"
      ]
     },
     "execution_count": 12,
     "metadata": {},
     "output_type": "execute_result"
    }
   ],
   "source": [
    "df.isnull().sum()"
   ]
  },
  {
   "cell_type": "code",
   "execution_count": 13,
   "metadata": {},
   "outputs": [
    {
     "data": {
      "text/html": [
       "<div>\n",
       "<style scoped>\n",
       "    .dataframe tbody tr th:only-of-type {\n",
       "        vertical-align: middle;\n",
       "    }\n",
       "\n",
       "    .dataframe tbody tr th {\n",
       "        vertical-align: top;\n",
       "    }\n",
       "\n",
       "    .dataframe thead th {\n",
       "        text-align: right;\n",
       "    }\n",
       "</style>\n",
       "<table border=\"1\" class=\"dataframe\">\n",
       "  <thead>\n",
       "    <tr style=\"text-align: right;\">\n",
       "      <th></th>\n",
       "      <th>Total Cases</th>\n",
       "      <th>Total Recovered</th>\n",
       "      <th>Total Deaths</th>\n",
       "      <th>Active Cases</th>\n",
       "    </tr>\n",
       "  </thead>\n",
       "  <tbody>\n",
       "    <tr>\n",
       "      <th>count</th>\n",
       "      <td>3.600000e+01</td>\n",
       "      <td>3.600000e+01</td>\n",
       "      <td>36.000000</td>\n",
       "      <td>36.000000</td>\n",
       "    </tr>\n",
       "    <tr>\n",
       "      <th>mean</th>\n",
       "      <td>5.185654e+05</td>\n",
       "      <td>4.248727e+05</td>\n",
       "      <td>5753.194444</td>\n",
       "      <td>87716.722222</td>\n",
       "    </tr>\n",
       "    <tr>\n",
       "      <th>std</th>\n",
       "      <td>8.251491e+05</td>\n",
       "      <td>6.871121e+05</td>\n",
       "      <td>11654.460772</td>\n",
       "      <td>133727.041855</td>\n",
       "    </tr>\n",
       "    <tr>\n",
       "      <th>min</th>\n",
       "      <td>2.504000e+03</td>\n",
       "      <td>1.329000e+03</td>\n",
       "      <td>1.000000</td>\n",
       "      <td>143.000000</td>\n",
       "    </tr>\n",
       "    <tr>\n",
       "      <th>25%</th>\n",
       "      <td>2.776650e+04</td>\n",
       "      <td>2.629150e+04</td>\n",
       "      <td>337.000000</td>\n",
       "      <td>1644.250000</td>\n",
       "    </tr>\n",
       "    <tr>\n",
       "      <th>50%</th>\n",
       "      <td>2.341680e+05</td>\n",
       "      <td>1.933375e+05</td>\n",
       "      <td>2230.500000</td>\n",
       "      <td>50674.500000</td>\n",
       "    </tr>\n",
       "    <tr>\n",
       "      <th>75%</th>\n",
       "      <td>6.101100e+05</td>\n",
       "      <td>4.727248e+05</td>\n",
       "      <td>7239.500000</td>\n",
       "      <td>110819.750000</td>\n",
       "    </tr>\n",
       "    <tr>\n",
       "      <th>max</th>\n",
       "      <td>4.539553e+06</td>\n",
       "      <td>3.799266e+06</td>\n",
       "      <td>67985.000000</td>\n",
       "      <td>670301.000000</td>\n",
       "    </tr>\n",
       "  </tbody>\n",
       "</table>\n",
       "</div>"
      ],
      "text/plain": [
       "        Total Cases  Total Recovered  Total Deaths   Active Cases\n",
       "count  3.600000e+01     3.600000e+01     36.000000      36.000000\n",
       "mean   5.185654e+05     4.248727e+05   5753.194444   87716.722222\n",
       "std    8.251491e+05     6.871121e+05  11654.460772  133727.041855\n",
       "min    2.504000e+03     1.329000e+03      1.000000     143.000000\n",
       "25%    2.776650e+04     2.629150e+04    337.000000    1644.250000\n",
       "50%    2.341680e+05     1.933375e+05   2230.500000   50674.500000\n",
       "75%    6.101100e+05     4.727248e+05   7239.500000  110819.750000\n",
       "max    4.539553e+06     3.799266e+06  67985.000000  670301.000000"
      ]
     },
     "execution_count": 13,
     "metadata": {},
     "output_type": "execute_result"
    }
   ],
   "source": [
    "df.describe()"
   ]
  },
  {
   "cell_type": "code",
   "execution_count": 14,
   "metadata": {},
   "outputs": [
    {
     "data": {
      "text/plain": [
       "State              MaharashtraKeralaKarnatakaAndhra PradeshTamil ...\n",
       "Total Cases                                                 18668356\n",
       "Total Recovered                                             15295417\n",
       "Total Deaths                                                  207115\n",
       "Active Cases                                                 3157802\n",
       "dtype: object"
      ]
     },
     "execution_count": 14,
     "metadata": {},
     "output_type": "execute_result"
    }
   ],
   "source": [
    "df.sum()"
   ]
  },
  {
   "cell_type": "markdown",
   "metadata": {},
   "source": [
    "## Calculate state-wise :\n",
    "1.Total Number of Cases                                                 \n",
    "2.Total Number of Recovered                                            \n",
    "3.Total Number of Deaths                                                 \n",
    "4.Active Number of Cases"
   ]
  },
  {
   "cell_type": "code",
   "execution_count": 15,
   "metadata": {},
   "outputs": [
    {
     "data": {
      "text/plain": [
       "State\n",
       "Maharashtra       4539553\n",
       "Kerala            1533985\n",
       "Karnataka         1474846\n",
       "Uttar Pradesh     1217952\n",
       "Tamil Nadu        1148064\n",
       "Delhi             1098051\n",
       "Andhra Pradesh    1084336\n",
       "West Bengal        810955\n",
       "Chhattisgarh       697902\n",
       "Rajasthan          580846\n",
       "Name: Total Cases, dtype: int64"
      ]
     },
     "execution_count": 15,
     "metadata": {},
     "output_type": "execute_result"
    }
   ],
   "source": [
    "a = df.groupby('State')['Total Cases'].sum().sort_values(ascending=False).head(10)\n",
    "a"
   ]
  },
  {
   "cell_type": "code",
   "execution_count": 16,
   "metadata": {},
   "outputs": [
    {
     "data": {
      "text/plain": [
       "<AxesSubplot:xlabel='State'>"
      ]
     },
     "execution_count": 16,
     "metadata": {},
     "output_type": "execute_result"
    },
    {
     "data": {
      "image/png": "[encoded data removed]",
      "text/plain": [
       "<Figure size 432x288 with 1 Axes>"
      ]
     },
     "metadata": {
      "needs_background": "light"
     },
     "output_type": "display_data"
    }
   ],
   "source": [
    "a.head(10).plot(kind = 'bar')"
   ]
  },
  {
   "cell_type": "code",
   "execution_count": 17,
   "metadata": {},
   "outputs": [
    {
     "data": {
      "text/plain": [
       "State\n",
       "Manipur                                     31001\n",
       "Arunachal Pradesh                           18063\n",
       "Meghalaya                                   16617\n",
       "Ladakh                                      13758\n",
       "Nagaland                                    13569\n",
       "Sikkim                                       7577\n",
       "Dadra and Nagar Haveli and Daman and Diu     7378\n",
       "Mizoram                                      5879\n",
       "Andaman and Nicobar Islands                  5816\n",
       "Lakshadweep                                  2504\n",
       "Name: Total Cases, dtype: int64"
      ]
     },
     "execution_count": 17,
     "metadata": {},
     "output_type": "execute_result"
    }
   ],
   "source": [
    "a = df.groupby('State')['Total Cases'].sum().sort_values(ascending=False).tail(10)\n",
    "a"
   ]
  },
  {
   "cell_type": "code",
   "execution_count": 18,
   "metadata": {},
   "outputs": [
    {
     "data": {
      "text/plain": [
       "<AxesSubplot:xlabel='State'>"
      ]
     },
     "execution_count": 18,
     "metadata": {},
     "output_type": "execute_result"
    },
    {
     "data": {
      "image/png": "[encoded data removed]",
      "text/plain": [
       "<Figure size 432x288 with 1 Axes>"
      ]
     },
     "metadata": {
      "needs_background": "light"
     },
     "output_type": "display_data"
    }
   ],
   "source": [
    "a.tail(10).plot(kind = 'bar')"
   ]
  },
  {
   "cell_type": "code",
   "execution_count": 19,
   "metadata": {},
   "outputs": [
    {
     "data": {
      "text/plain": [
       "State\n",
       "Maharashtra       3799266\n",
       "Kerala            1244301\n",
       "Karnataka         1110025\n",
       "Tamil Nadu        1021575\n",
       "Delhi              982922\n",
       "Andhra Pradesh     962250\n",
       "Uttar Pradesh      896477\n",
       "West Bengal        689466\n",
       "Chhattisgarh       570995\n",
       "Madhya Pradesh     439968\n",
       "Name: Total Recovered, dtype: int64"
      ]
     },
     "execution_count": 19,
     "metadata": {},
     "output_type": "execute_result"
    }
   ],
   "source": [
    "b = df.groupby('State')['Total Recovered'].sum().sort_values(ascending=False).head(10)\n",
    "b"
   ]
  },
  {
   "cell_type": "code",
   "execution_count": 20,
   "metadata": {},
   "outputs": [
    {
     "data": {
      "text/plain": [
       "State\n",
       "Manipur                                     29376\n",
       "Arunachal Pradesh                           17038\n",
       "Meghalaya                                   14917\n",
       "Nagaland                                    12183\n",
       "Ladakh                                      11937\n",
       "Sikkim                                       6154\n",
       "Andaman and Nicobar Islands                  5606\n",
       "Dadra and Nagar Haveli and Daman and Diu     5151\n",
       "Mizoram                                      4857\n",
       "Lakshadweep                                  1329\n",
       "Name: Total Recovered, dtype: int64"
      ]
     },
     "execution_count": 20,
     "metadata": {},
     "output_type": "execute_result"
    }
   ],
   "source": [
    "b = df.groupby('State')['Total Recovered'].sum().sort_values(ascending=False).tail(10)\n",
    "b"
   ]
  },
  {
   "cell_type": "code",
   "execution_count": 21,
   "metadata": {},
   "outputs": [
    {
     "data": {
      "text/plain": [
       "State\n",
       "Maharashtra       67985\n",
       "Delhi             15377\n",
       "Karnataka         15306\n",
       "Tamil Nadu        13933\n",
       "Uttar Pradesh     12238\n",
       "West Bengal       11248\n",
       "Punjab             8772\n",
       "Chhattisgarh       8061\n",
       "Andhra Pradesh     7928\n",
       "Gujarat            7010\n",
       "Name: Total Deaths, dtype: int64"
      ]
     },
     "execution_count": 21,
     "metadata": {},
     "output_type": "execute_result"
    }
   ],
   "source": [
    "c = df.groupby('State')['Total Deaths'].sum().sort_values(ascending=False).head(10)\n",
    "c"
   ]
  },
  {
   "cell_type": "code",
   "execution_count": 22,
   "metadata": {},
   "outputs": [
    {
     "data": {
      "text/plain": [
       "State\n",
       "Tripura                                     393\n",
       "Meghalaya                                   169\n",
       "Sikkim                                      143\n",
       "Ladakh                                      139\n",
       "Nagaland                                    100\n",
       "Andaman and Nicobar Islands                  67\n",
       "Arunachal Pradesh                            58\n",
       "Mizoram                                      13\n",
       "Dadra and Nagar Haveli and Daman and Diu      4\n",
       "Lakshadweep                                   1\n",
       "Name: Total Deaths, dtype: int64"
      ]
     },
     "execution_count": 22,
     "metadata": {},
     "output_type": "execute_result"
    }
   ],
   "source": [
    "c = df.groupby('State')['Total Deaths'].sum().sort_values(ascending=False).tail(10)\n",
    "c"
   ]
  },
  {
   "cell_type": "code",
   "execution_count": 23,
   "metadata": {},
   "outputs": [
    {
     "data": {
      "text/html": [
       "<div>\n",
       "<style scoped>\n",
       "    .dataframe tbody tr th:only-of-type {\n",
       "        vertical-align: middle;\n",
       "    }\n",
       "\n",
       "    .dataframe tbody tr th {\n",
       "        vertical-align: top;\n",
       "    }\n",
       "\n",
       "    .dataframe thead th {\n",
       "        text-align: right;\n",
       "    }\n",
       "</style>\n",
       "<table border=\"1\" class=\"dataframe\">\n",
       "  <thead>\n",
       "    <tr style=\"text-align: right;\">\n",
       "      <th></th>\n",
       "      <th>State</th>\n",
       "      <th>Total Cases</th>\n",
       "      <th>Total Recovered</th>\n",
       "      <th>Total Deaths</th>\n",
       "      <th>Active Cases</th>\n",
       "    </tr>\n",
       "  </thead>\n",
       "  <tbody>\n",
       "    <tr>\n",
       "      <th>0</th>\n",
       "      <td>Maharashtra</td>\n",
       "      <td>4539553</td>\n",
       "      <td>3799266</td>\n",
       "      <td>67985</td>\n",
       "      <td>670301</td>\n",
       "    </tr>\n",
       "    <tr>\n",
       "      <th>2</th>\n",
       "      <td>Karnataka</td>\n",
       "      <td>1474846</td>\n",
       "      <td>1110025</td>\n",
       "      <td>15306</td>\n",
       "      <td>349496</td>\n",
       "    </tr>\n",
       "    <tr>\n",
       "      <th>6</th>\n",
       "      <td>Uttar Pradesh</td>\n",
       "      <td>1217952</td>\n",
       "      <td>896477</td>\n",
       "      <td>12238</td>\n",
       "      <td>309237</td>\n",
       "    </tr>\n",
       "  </tbody>\n",
       "</table>\n",
       "</div>"
      ],
      "text/plain": [
       "           State  Total Cases  Total Recovered  Total Deaths  Active Cases\n",
       "0    Maharashtra      4539553          3799266         67985        670301\n",
       "2      Karnataka      1474846          1110025         15306        349496\n",
       "6  Uttar Pradesh      1217952           896477         12238        309237"
      ]
     },
     "execution_count": 23,
     "metadata": {},
     "output_type": "execute_result"
    }
   ],
   "source": [
    "d = df.groupby('State')\n",
    "d = df.sum()\n",
    "d = df.sort_values(['Active Cases'], ascending=False)\n",
    "d.head(3)"
   ]
  },
  {
   "cell_type": "code",
   "execution_count": 24,
   "metadata": {},
   "outputs": [
    {
     "data": {
      "text/html": [
       "<div>\n",
       "<style scoped>\n",
       "    .dataframe tbody tr th:only-of-type {\n",
       "        vertical-align: middle;\n",
       "    }\n",
       "\n",
       "    .dataframe tbody tr th {\n",
       "        vertical-align: top;\n",
       "    }\n",
       "\n",
       "    .dataframe thead th {\n",
       "        text-align: right;\n",
       "    }\n",
       "</style>\n",
       "<table border=\"1\" class=\"dataframe\">\n",
       "  <thead>\n",
       "    <tr style=\"text-align: right;\">\n",
       "      <th></th>\n",
       "      <th>State</th>\n",
       "      <th>Total Cases</th>\n",
       "      <th>Total Recovered</th>\n",
       "      <th>Total Deaths</th>\n",
       "      <th>Active Cases</th>\n",
       "    </tr>\n",
       "  </thead>\n",
       "  <tbody>\n",
       "    <tr>\n",
       "      <th>27</th>\n",
       "      <td>Arunachal Pradesh</td>\n",
       "      <td>18063</td>\n",
       "      <td>17038</td>\n",
       "      <td>58</td>\n",
       "      <td>967</td>\n",
       "    </tr>\n",
       "    <tr>\n",
       "      <th>29</th>\n",
       "      <td>Nagaland</td>\n",
       "      <td>13569</td>\n",
       "      <td>12183</td>\n",
       "      <td>100</td>\n",
       "      <td>952</td>\n",
       "    </tr>\n",
       "    <tr>\n",
       "      <th>32</th>\n",
       "      <td>Andaman and Nicobar Islands</td>\n",
       "      <td>5816</td>\n",
       "      <td>5606</td>\n",
       "      <td>67</td>\n",
       "      <td>143</td>\n",
       "    </tr>\n",
       "  </tbody>\n",
       "</table>\n",
       "</div>"
      ],
      "text/plain": [
       "                          State  Total Cases  Total Recovered  Total Deaths  \\\n",
       "27            Arunachal Pradesh        18063            17038            58   \n",
       "29                     Nagaland        13569            12183           100   \n",
       "32  Andaman and Nicobar Islands         5816             5606            67   \n",
       "\n",
       "    Active Cases  \n",
       "27           967  \n",
       "29           952  \n",
       "32           143  "
      ]
     },
     "execution_count": 24,
     "metadata": {},
     "output_type": "execute_result"
    }
   ],
   "source": [
    "d = df.groupby('State')\n",
    "d = df.sum()\n",
    "d = df.sort_values(['Active Cases'], ascending=False)\n",
    "d.tail(3)"
   ]
  },
  {
   "cell_type": "code",
   "execution_count": 25,
   "metadata": {},
   "outputs": [
    {
     "data": {
      "text/html": [
       "<div>\n",
       "<style scoped>\n",
       "    .dataframe tbody tr th:only-of-type {\n",
       "        vertical-align: middle;\n",
       "    }\n",
       "\n",
       "    .dataframe tbody tr th {\n",
       "        vertical-align: top;\n",
       "    }\n",
       "\n",
       "    .dataframe thead th {\n",
       "        text-align: right;\n",
       "    }\n",
       "</style>\n",
       "<table border=\"1\" class=\"dataframe\">\n",
       "  <thead>\n",
       "    <tr style=\"text-align: right;\">\n",
       "      <th></th>\n",
       "      <th>State</th>\n",
       "      <th>Total Cases</th>\n",
       "      <th>Total Recovered</th>\n",
       "      <th>Total Deaths</th>\n",
       "      <th>Active Cases</th>\n",
       "    </tr>\n",
       "  </thead>\n",
       "  <tbody>\n",
       "    <tr>\n",
       "      <th>34</th>\n",
       "      <td>Dadra and Nagar Haveli and Daman and Diu</td>\n",
       "      <td>7378</td>\n",
       "      <td>5151</td>\n",
       "      <td>4</td>\n",
       "      <td>2192</td>\n",
       "    </tr>\n",
       "    <tr>\n",
       "      <th>35</th>\n",
       "      <td>Lakshadweep</td>\n",
       "      <td>2504</td>\n",
       "      <td>1329</td>\n",
       "      <td>1</td>\n",
       "      <td>1167</td>\n",
       "    </tr>\n",
       "  </tbody>\n",
       "</table>\n",
       "</div>"
      ],
      "text/plain": [
       "                                       State  Total Cases  Total Recovered  \\\n",
       "34  Dadra and Nagar Haveli and Daman and Diu         7378             5151   \n",
       "35                               Lakshadweep         2504             1329   \n",
       "\n",
       "    Total Deaths  Active Cases  \n",
       "34             4          2192  \n",
       "35             1          1167  "
      ]
     },
     "execution_count": 25,
     "metadata": {},
     "output_type": "execute_result"
    }
   ],
   "source": [
    "df[df['Total Deaths'] < 10]"
   ]
  },
  {
   "cell_type": "code",
   "execution_count": 26,
   "metadata": {},
   "outputs": [
    {
     "data": {
      "text/html": [
       "<div>\n",
       "<style scoped>\n",
       "    .dataframe tbody tr th:only-of-type {\n",
       "        vertical-align: middle;\n",
       "    }\n",
       "\n",
       "    .dataframe tbody tr th {\n",
       "        vertical-align: top;\n",
       "    }\n",
       "\n",
       "    .dataframe thead th {\n",
       "        text-align: right;\n",
       "    }\n",
       "</style>\n",
       "<table border=\"1\" class=\"dataframe\">\n",
       "  <thead>\n",
       "    <tr style=\"text-align: right;\">\n",
       "      <th></th>\n",
       "      <th>State</th>\n",
       "      <th>Total Cases</th>\n",
       "      <th>Total Recovered</th>\n",
       "      <th>Total Deaths</th>\n",
       "      <th>Active Cases</th>\n",
       "    </tr>\n",
       "  </thead>\n",
       "  <tbody>\n",
       "    <tr>\n",
       "      <th>0</th>\n",
       "      <td>Maharashtra</td>\n",
       "      <td>4539553</td>\n",
       "      <td>3799266</td>\n",
       "      <td>67985</td>\n",
       "      <td>670301</td>\n",
       "    </tr>\n",
       "    <tr>\n",
       "      <th>1</th>\n",
       "      <td>Kerala</td>\n",
       "      <td>1533985</td>\n",
       "      <td>1244301</td>\n",
       "      <td>5260</td>\n",
       "      <td>284085</td>\n",
       "    </tr>\n",
       "    <tr>\n",
       "      <th>2</th>\n",
       "      <td>Karnataka</td>\n",
       "      <td>1474846</td>\n",
       "      <td>1110025</td>\n",
       "      <td>15306</td>\n",
       "      <td>349496</td>\n",
       "    </tr>\n",
       "    <tr>\n",
       "      <th>3</th>\n",
       "      <td>Andhra Pradesh</td>\n",
       "      <td>1084336</td>\n",
       "      <td>962250</td>\n",
       "      <td>7928</td>\n",
       "      <td>114158</td>\n",
       "    </tr>\n",
       "    <tr>\n",
       "      <th>4</th>\n",
       "      <td>Tamil Nadu</td>\n",
       "      <td>1148064</td>\n",
       "      <td>1021575</td>\n",
       "      <td>13933</td>\n",
       "      <td>112556</td>\n",
       "    </tr>\n",
       "    <tr>\n",
       "      <th>5</th>\n",
       "      <td>Delhi</td>\n",
       "      <td>1098051</td>\n",
       "      <td>982922</td>\n",
       "      <td>15377</td>\n",
       "      <td>99752</td>\n",
       "    </tr>\n",
       "    <tr>\n",
       "      <th>6</th>\n",
       "      <td>Uttar Pradesh</td>\n",
       "      <td>1217952</td>\n",
       "      <td>896477</td>\n",
       "      <td>12238</td>\n",
       "      <td>309237</td>\n",
       "    </tr>\n",
       "    <tr>\n",
       "      <th>7</th>\n",
       "      <td>West Bengal</td>\n",
       "      <td>810955</td>\n",
       "      <td>689466</td>\n",
       "      <td>11248</td>\n",
       "      <td>110241</td>\n",
       "    </tr>\n",
       "    <tr>\n",
       "      <th>8</th>\n",
       "      <td>Odisha</td>\n",
       "      <td>435513</td>\n",
       "      <td>380400</td>\n",
       "      <td>2082</td>\n",
       "      <td>53031</td>\n",
       "    </tr>\n",
       "    <tr>\n",
       "      <th>9</th>\n",
       "      <td>Rajasthan</td>\n",
       "      <td>580846</td>\n",
       "      <td>407243</td>\n",
       "      <td>4084</td>\n",
       "      <td>169519</td>\n",
       "    </tr>\n",
       "    <tr>\n",
       "      <th>10</th>\n",
       "      <td>Chhattisgarh</td>\n",
       "      <td>697902</td>\n",
       "      <td>570995</td>\n",
       "      <td>8061</td>\n",
       "      <td>118846</td>\n",
       "    </tr>\n",
       "    <tr>\n",
       "      <th>11</th>\n",
       "      <td>Telangana</td>\n",
       "      <td>427960</td>\n",
       "      <td>349692</td>\n",
       "      <td>2208</td>\n",
       "      <td>76060</td>\n",
       "    </tr>\n",
       "    <tr>\n",
       "      <th>12</th>\n",
       "      <td>Haryana</td>\n",
       "      <td>460198</td>\n",
       "      <td>367317</td>\n",
       "      <td>4021</td>\n",
       "      <td>88860</td>\n",
       "    </tr>\n",
       "    <tr>\n",
       "      <th>13</th>\n",
       "      <td>Gujarat</td>\n",
       "      <td>553172</td>\n",
       "      <td>408368</td>\n",
       "      <td>7010</td>\n",
       "      <td>137794</td>\n",
       "    </tr>\n",
       "    <tr>\n",
       "      <th>14</th>\n",
       "      <td>Bihar</td>\n",
       "      <td>454464</td>\n",
       "      <td>351162</td>\n",
       "      <td>2480</td>\n",
       "      <td>100821</td>\n",
       "    </tr>\n",
       "    <tr>\n",
       "      <th>15</th>\n",
       "      <td>Madhya Pradesh</td>\n",
       "      <td>538165</td>\n",
       "      <td>439968</td>\n",
       "      <td>5424</td>\n",
       "      <td>92773</td>\n",
       "    </tr>\n",
       "    <tr>\n",
       "      <th>16</th>\n",
       "      <td>Assam</td>\n",
       "      <td>246847</td>\n",
       "      <td>222397</td>\n",
       "      <td>1255</td>\n",
       "      <td>21848</td>\n",
       "    </tr>\n",
       "    <tr>\n",
       "      <th>17</th>\n",
       "      <td>Punjab</td>\n",
       "      <td>358186</td>\n",
       "      <td>295988</td>\n",
       "      <td>8772</td>\n",
       "      <td>53426</td>\n",
       "    </tr>\n",
       "    <tr>\n",
       "      <th>18</th>\n",
       "      <td>Jammu and Kashmir</td>\n",
       "      <td>172551</td>\n",
       "      <td>144154</td>\n",
       "      <td>2253</td>\n",
       "      <td>26144</td>\n",
       "    </tr>\n",
       "    <tr>\n",
       "      <th>19</th>\n",
       "      <td>Jharkhand</td>\n",
       "      <td>221489</td>\n",
       "      <td>164278</td>\n",
       "      <td>2395</td>\n",
       "      <td>54816</td>\n",
       "    </tr>\n",
       "    <tr>\n",
       "      <th>20</th>\n",
       "      <td>Uttarakhand</td>\n",
       "      <td>174867</td>\n",
       "      <td>120350</td>\n",
       "      <td>2502</td>\n",
       "      <td>48318</td>\n",
       "    </tr>\n",
       "    <tr>\n",
       "      <th>21</th>\n",
       "      <td>Himachal Pradesh</td>\n",
       "      <td>93889</td>\n",
       "      <td>76335</td>\n",
       "      <td>1407</td>\n",
       "      <td>16098</td>\n",
       "    </tr>\n",
       "    <tr>\n",
       "      <th>22</th>\n",
       "      <td>Goa</td>\n",
       "      <td>88028</td>\n",
       "      <td>65984</td>\n",
       "      <td>1146</td>\n",
       "      <td>20898</td>\n",
       "    </tr>\n",
       "    <tr>\n",
       "      <th>23</th>\n",
       "      <td>Puducherry</td>\n",
       "      <td>57427</td>\n",
       "      <td>47645</td>\n",
       "      <td>793</td>\n",
       "      <td>8989</td>\n",
       "    </tr>\n",
       "    <tr>\n",
       "      <th>24</th>\n",
       "      <td>Tripura</td>\n",
       "      <td>35025</td>\n",
       "      <td>33505</td>\n",
       "      <td>393</td>\n",
       "      <td>1104</td>\n",
       "    </tr>\n",
       "    <tr>\n",
       "      <th>25</th>\n",
       "      <td>Manipur</td>\n",
       "      <td>31001</td>\n",
       "      <td>29376</td>\n",
       "      <td>395</td>\n",
       "      <td>1230</td>\n",
       "    </tr>\n",
       "    <tr>\n",
       "      <th>26</th>\n",
       "      <td>Chandigarh</td>\n",
       "      <td>41923</td>\n",
       "      <td>34806</td>\n",
       "      <td>465</td>\n",
       "      <td>6652</td>\n",
       "    </tr>\n",
       "    <tr>\n",
       "      <th>27</th>\n",
       "      <td>Arunachal Pradesh</td>\n",
       "      <td>18063</td>\n",
       "      <td>17038</td>\n",
       "      <td>58</td>\n",
       "      <td>967</td>\n",
       "    </tr>\n",
       "    <tr>\n",
       "      <th>28</th>\n",
       "      <td>Meghalaya</td>\n",
       "      <td>16617</td>\n",
       "      <td>14917</td>\n",
       "      <td>169</td>\n",
       "      <td>1531</td>\n",
       "    </tr>\n",
       "    <tr>\n",
       "      <th>29</th>\n",
       "      <td>Nagaland</td>\n",
       "      <td>13569</td>\n",
       "      <td>12183</td>\n",
       "      <td>100</td>\n",
       "      <td>952</td>\n",
       "    </tr>\n",
       "    <tr>\n",
       "      <th>30</th>\n",
       "      <td>Ladakh</td>\n",
       "      <td>13758</td>\n",
       "      <td>11937</td>\n",
       "      <td>139</td>\n",
       "      <td>1682</td>\n",
       "    </tr>\n",
       "    <tr>\n",
       "      <th>31</th>\n",
       "      <td>Sikkim</td>\n",
       "      <td>7577</td>\n",
       "      <td>6154</td>\n",
       "      <td>143</td>\n",
       "      <td>1106</td>\n",
       "    </tr>\n",
       "    <tr>\n",
       "      <th>32</th>\n",
       "      <td>Andaman and Nicobar Islands</td>\n",
       "      <td>5816</td>\n",
       "      <td>5606</td>\n",
       "      <td>67</td>\n",
       "      <td>143</td>\n",
       "    </tr>\n",
       "    <tr>\n",
       "      <th>33</th>\n",
       "      <td>Mizoram</td>\n",
       "      <td>5879</td>\n",
       "      <td>4857</td>\n",
       "      <td>13</td>\n",
       "      <td>1009</td>\n",
       "    </tr>\n",
       "  </tbody>\n",
       "</table>\n",
       "</div>"
      ],
      "text/plain": [
       "                          State  Total Cases  Total Recovered  Total Deaths  \\\n",
       "0                   Maharashtra      4539553          3799266         67985   \n",
       "1                        Kerala      1533985          1244301          5260   \n",
       "2                     Karnataka      1474846          1110025         15306   \n",
       "3                Andhra Pradesh      1084336           962250          7928   \n",
       "4                    Tamil Nadu      1148064          1021575         13933   \n",
       "5                         Delhi      1098051           982922         15377   \n",
       "6                 Uttar Pradesh      1217952           896477         12238   \n",
       "7                   West Bengal       810955           689466         11248   \n",
       "8                        Odisha       435513           380400          2082   \n",
       "9                     Rajasthan       580846           407243          4084   \n",
       "10                 Chhattisgarh       697902           570995          8061   \n",
       "11                    Telangana       427960           349692          2208   \n",
       "12                      Haryana       460198           367317          4021   \n",
       "13                      Gujarat       553172           408368          7010   \n",
       "14                        Bihar       454464           351162          2480   \n",
       "15               Madhya Pradesh       538165           439968          5424   \n",
       "16                        Assam       246847           222397          1255   \n",
       "17                       Punjab       358186           295988          8772   \n",
       "18            Jammu and Kashmir       172551           144154          2253   \n",
       "19                    Jharkhand       221489           164278          2395   \n",
       "20                  Uttarakhand       174867           120350          2502   \n",
       "21             Himachal Pradesh        93889            76335          1407   \n",
       "22                          Goa        88028            65984          1146   \n",
       "23                   Puducherry        57427            47645           793   \n",
       "24                      Tripura        35025            33505           393   \n",
       "25                      Manipur        31001            29376           395   \n",
       "26                   Chandigarh        41923            34806           465   \n",
       "27            Arunachal Pradesh        18063            17038            58   \n",
       "28                    Meghalaya        16617            14917           169   \n",
       "29                     Nagaland        13569            12183           100   \n",
       "30                       Ladakh        13758            11937           139   \n",
       "31                       Sikkim         7577             6154           143   \n",
       "32  Andaman and Nicobar Islands         5816             5606            67   \n",
       "33                      Mizoram         5879             4857            13   \n",
       "\n",
       "    Active Cases  \n",
       "0         670301  \n",
       "1         284085  \n",
       "2         349496  \n",
       "3         114158  \n",
       "4         112556  \n",
       "5          99752  \n",
       "6         309237  \n",
       "7         110241  \n",
       "8          53031  \n",
       "9         169519  \n",
       "10        118846  \n",
       "11         76060  \n",
       "12         88860  \n",
       "13        137794  \n",
       "14        100821  \n",
       "15         92773  \n",
       "16         21848  \n",
       "17         53426  \n",
       "18         26144  \n",
       "19         54816  \n",
       "20         48318  \n",
       "21         16098  \n",
       "22         20898  \n",
       "23          8989  \n",
       "24          1104  \n",
       "25          1230  \n",
       "26          6652  \n",
       "27           967  \n",
       "28          1531  \n",
       "29           952  \n",
       "30          1682  \n",
       "31          1106  \n",
       "32           143  \n",
       "33          1009  "
      ]
     },
     "execution_count": 26,
     "metadata": {},
     "output_type": "execute_result"
    }
   ],
   "source": [
    "df[~(df['Total Deaths'] < 10)]"
   ]
  },
  {
   "cell_type": "markdown",
   "metadata": {},
   "source": [
    "## Show the records related with the States - Maharashtra, Tamil Nadu, Punjab, Gujarat "
   ]
  },
  {
   "cell_type": "code",
   "execution_count": 27,
   "metadata": {},
   "outputs": [
    {
     "data": {
      "text/html": [
       "<div>\n",
       "<style scoped>\n",
       "    .dataframe tbody tr th:only-of-type {\n",
       "        vertical-align: middle;\n",
       "    }\n",
       "\n",
       "    .dataframe tbody tr th {\n",
       "        vertical-align: top;\n",
       "    }\n",
       "\n",
       "    .dataframe thead th {\n",
       "        text-align: right;\n",
       "    }\n",
       "</style>\n",
       "<table border=\"1\" class=\"dataframe\">\n",
       "  <thead>\n",
       "    <tr style=\"text-align: right;\">\n",
       "      <th></th>\n",
       "      <th>State</th>\n",
       "      <th>Total Cases</th>\n",
       "      <th>Total Recovered</th>\n",
       "      <th>Total Deaths</th>\n",
       "      <th>Active Cases</th>\n",
       "    </tr>\n",
       "  </thead>\n",
       "  <tbody>\n",
       "    <tr>\n",
       "      <th>0</th>\n",
       "      <td>Maharashtra</td>\n",
       "      <td>4539553</td>\n",
       "      <td>3799266</td>\n",
       "      <td>67985</td>\n",
       "      <td>670301</td>\n",
       "    </tr>\n",
       "  </tbody>\n",
       "</table>\n",
       "</div>"
      ],
      "text/plain": [
       "         State  Total Cases  Total Recovered  Total Deaths  Active Cases\n",
       "0  Maharashtra      4539553          3799266         67985        670301"
      ]
     },
     "execution_count": 27,
     "metadata": {},
     "output_type": "execute_result"
    }
   ],
   "source": [
    "df[df.State =='Maharashtra']"
   ]
  },
  {
   "cell_type": "code",
   "execution_count": 28,
   "metadata": {},
   "outputs": [
    {
     "data": {
      "text/html": [
       "<div>\n",
       "<style scoped>\n",
       "    .dataframe tbody tr th:only-of-type {\n",
       "        vertical-align: middle;\n",
       "    }\n",
       "\n",
       "    .dataframe tbody tr th {\n",
       "        vertical-align: top;\n",
       "    }\n",
       "\n",
       "    .dataframe thead th {\n",
       "        text-align: right;\n",
       "    }\n",
       "</style>\n",
       "<table border=\"1\" class=\"dataframe\">\n",
       "  <thead>\n",
       "    <tr style=\"text-align: right;\">\n",
       "      <th></th>\n",
       "      <th>State</th>\n",
       "      <th>Total Cases</th>\n",
       "      <th>Total Recovered</th>\n",
       "      <th>Total Deaths</th>\n",
       "      <th>Active Cases</th>\n",
       "    </tr>\n",
       "  </thead>\n",
       "  <tbody>\n",
       "    <tr>\n",
       "      <th>0</th>\n",
       "      <td>Maharashtra</td>\n",
       "      <td>4539553</td>\n",
       "      <td>3799266</td>\n",
       "      <td>67985</td>\n",
       "      <td>670301</td>\n",
       "    </tr>\n",
       "    <tr>\n",
       "      <th>4</th>\n",
       "      <td>Tamil Nadu</td>\n",
       "      <td>1148064</td>\n",
       "      <td>1021575</td>\n",
       "      <td>13933</td>\n",
       "      <td>112556</td>\n",
       "    </tr>\n",
       "    <tr>\n",
       "      <th>13</th>\n",
       "      <td>Gujarat</td>\n",
       "      <td>553172</td>\n",
       "      <td>408368</td>\n",
       "      <td>7010</td>\n",
       "      <td>137794</td>\n",
       "    </tr>\n",
       "    <tr>\n",
       "      <th>17</th>\n",
       "      <td>Punjab</td>\n",
       "      <td>358186</td>\n",
       "      <td>295988</td>\n",
       "      <td>8772</td>\n",
       "      <td>53426</td>\n",
       "    </tr>\n",
       "  </tbody>\n",
       "</table>\n",
       "</div>"
      ],
      "text/plain": [
       "          State  Total Cases  Total Recovered  Total Deaths  Active Cases\n",
       "0   Maharashtra      4539553          3799266         67985        670301\n",
       "4    Tamil Nadu      1148064          1021575         13933        112556\n",
       "13      Gujarat       553172           408368          7010        137794\n",
       "17       Punjab       358186           295988          8772         53426"
      ]
     },
     "execution_count": 28,
     "metadata": {},
     "output_type": "execute_result"
    }
   ],
   "source": [
    "G=df[df['State'].isin(['Maharashtra','Tamil Nadu','Punjab','Gujarat'])]\n",
    "G"
   ]
  },
  {
   "cell_type": "code",
   "execution_count": 29,
   "metadata": {},
   "outputs": [],
   "source": [
    "de=G.groupby(\"State\")\n"
   ]
  },
  {
   "cell_type": "code",
   "execution_count": 30,
   "metadata": {},
   "outputs": [
    {
     "data": {
      "application/vnd.plotly.v1+json": {
       "config": {
        "linkText": "Export to plot.ly",
        "plotlyServerURL": "https://plot.ly",
        "showLink": true
       },
       "data": [
        {
         "marker": {
          "color": "rgba(255, 153, 51, 0.6)",
          "line": {
           "color": "rgba(255, 153, 51, 1.0)",
           "width": 1
          }
         },
         "name": "Total Cases",
         "orientation": "v",
         "text": "",
         "type": "bar",
         "x": [
          "Punjab",
          "Gujarat",
          "Tamil Nadu",
          "Maharashtra"
         ],
         "y": [
          358186,
          553172,
          1148064,
          4539553
         ]
        },
        {
         "marker": {
          "color": "rgba(55, 128, 191, 0.6)",
          "line": {
           "color": "rgba(55, 128, 191, 1.0)",
           "width": 1
          }
         },
         "name": "Total Recovered",
         "orientation": "v",
         "text": "",
         "type": "bar",
         "x": [
          "Punjab",
          "Gujarat",
          "Tamil Nadu",
          "Maharashtra"
         ],
         "y": [
          295988,
          408368,
          1021575,
          3799266
         ]
        },
        {
         "marker": {
          "color": "rgba(50, 171, 96, 0.6)",
          "line": {
           "color": "rgba(50, 171, 96, 1.0)",
           "width": 1
          }
         },
         "name": "Total Deaths",
         "orientation": "v",
         "text": "",
         "type": "bar",
         "x": [
          "Punjab",
          "Gujarat",
          "Tamil Nadu",
          "Maharashtra"
         ],
         "y": [
          8772,
          7010,
          13933,
          67985
         ]
        },
        {
         "marker": {
          "color": "rgba(128, 0, 128, 0.6)",
          "line": {
           "color": "rgba(128, 0, 128, 1.0)",
           "width": 1
          }
         },
         "name": "Active Cases",
         "orientation": "v",
         "text": "",
         "type": "bar",
         "x": [
          "Punjab",
          "Gujarat",
          "Tamil Nadu",
          "Maharashtra"
         ],
         "y": [
          53426,
          137794,
          112556,
          670301
         ]
        }
       ],
       "layout": {
        "legend": {
         "bgcolor": "#F5F6F9",
         "font": {
          "color": "#4D5663"
         }
        },
        "paper_bgcolor": "#F5F6F9",
        "plot_bgcolor": "#F5F6F9",
        "template": {
         "data": {
          "bar": [
           {
            "error_x": {
             "color": "#2a3f5f"
            },
            "error_y": {
             "color": "#2a3f5f"
            },
            "marker": {
             "line": {
              "color": "#E5ECF6",
              "width": 0.5
             }
            },
            "type": "bar"
           }
          ],
          "barpolar": [
           {
            "marker": {
             "line": {
              "color": "#E5ECF6",
              "width": 0.5
             }
            },
            "type": "barpolar"
           }
          ],
          "carpet": [
           {
            "aaxis": {
             "endlinecolor": "#2a3f5f",
             "gridcolor": "white",
             "linecolor": "white",
             "minorgridcolor": "white",
             "startlinecolor": "#2a3f5f"
            },
            "baxis": {
             "endlinecolor": "#2a3f5f",
             "gridcolor": "white",
             "linecolor": "white",
             "minorgridcolor": "white",
             "startlinecolor": "#2a3f5f"
            },
            "type": "carpet"
           }
          ],
          "choropleth": [
           {
            "colorbar": {
             "outlinewidth": 0,
             "ticks": ""
            },
            "type": "choropleth"
           }
          ],
          "contour": [
           {
            "colorbar": {
             "outlinewidth": 0,
             "ticks": ""
            },
            "colorscale": [
             [
              0,
              "#0d0887"
             ],
             [
              0.1111111111111111,
              "#46039f"
             ],
             [
              0.2222222222222222,
              "#7201a8"
             ],
             [
              0.3333333333333333,
              "#9c179e"
             ],
             [
              0.4444444444444444,
              "#bd3786"
             ],
             [
              0.5555555555555556,
              "#d8576b"
             ],
             [
              0.6666666666666666,
              "#ed7953"
             ],
             [
              0.7777777777777778,
              "#fb9f3a"
             ],
             [
              0.8888888888888888,
              "#fdca26"
             ],
             [
              1,
              "#f0f921"
             ]
            ],
            "type": "contour"
           }
          ],
          "contourcarpet": [
           {
            "colorbar": {
             "outlinewidth": 0,
             "ticks": ""
            },
            "type": "contourcarpet"
           }
          ],
          "heatmap": [
           {
            "colorbar": {
             "outlinewidth": 0,
             "ticks": ""
            },
            "colorscale": [
             [
              0,
              "#0d0887"
             ],
             [
              0.1111111111111111,
              "#46039f"
             ],
             [
              0.2222222222222222,
              "#7201a8"
             ],
             [
              0.3333333333333333,
              "#9c179e"
             ],
             [
              0.4444444444444444,
              "#bd3786"
             ],
             [
              0.5555555555555556,
              "#d8576b"
             ],
             [
              0.6666666666666666,
              "#ed7953"
             ],
             [
              0.7777777777777778,
              "#fb9f3a"
             ],
             [
              0.8888888888888888,
              "#fdca26"
             ],
             [
              1,
              "#f0f921"
             ]
            ],
            "type": "heatmap"
           }
          ],
          "heatmapgl": [
           {
            "colorbar": {
             "outlinewidth": 0,
             "ticks": ""
            },
            "colorscale": [
             [
              0,
              "#0d0887"
             ],
             [
              0.1111111111111111,
              "#46039f"
             ],
             [
              0.2222222222222222,
              "#7201a8"
             ],
             [
              0.3333333333333333,
              "#9c179e"
             ],
             [
              0.4444444444444444,
              "#bd3786"
             ],
             [
              0.5555555555555556,
              "#d8576b"
             ],
             [
              0.6666666666666666,
              "#ed7953"
             ],
             [
              0.7777777777777778,
              "#fb9f3a"
             ],
             [
              0.8888888888888888,
              "#fdca26"
             ],
             [
              1,
              "#f0f921"
             ]
            ],
            "type": "heatmapgl"
           }
          ],
          "histogram": [
           {
            "marker": {
             "colorbar": {
              "outlinewidth": 0,
              "ticks": ""
             }
            },
            "type": "histogram"
           }
          ],
          "histogram2d": [
           {
            "colorbar": {
             "outlinewidth": 0,
             "ticks": ""
            },
            "colorscale": [
             [
              0,
              "#0d0887"
             ],
             [
              0.1111111111111111,
              "#46039f"
             ],
             [
              0.2222222222222222,
              "#7201a8"
             ],
             [
              0.3333333333333333,
              "#9c179e"
             ],
             [
              0.4444444444444444,
              "#bd3786"
             ],
             [
              0.5555555555555556,
              "#d8576b"
             ],
             [
              0.6666666666666666,
              "#ed7953"
             ],
             [
              0.7777777777777778,
              "#fb9f3a"
             ],
             [
              0.8888888888888888,
              "#fdca26"
             ],
             [
              1,
              "#f0f921"
             ]
            ],
            "type": "histogram2d"
           }
          ],
          "histogram2dcontour": [
           {
            "colorbar": {
             "outlinewidth": 0,
             "ticks": ""
            },
            "colorscale": [
             [
              0,
              "#0d0887"
             ],
             [
              0.1111111111111111,
              "#46039f"
             ],
             [
              0.2222222222222222,
              "#7201a8"
             ],
             [
              0.3333333333333333,
              "#9c179e"
             ],
             [
              0.4444444444444444,
              "#bd3786"
             ],
             [
              0.5555555555555556,
              "#d8576b"
             ],
             [
              0.6666666666666666,
              "#ed7953"
             ],
             [
              0.7777777777777778,
              "#fb9f3a"
             ],
             [
              0.8888888888888888,
              "#fdca26"
             ],
             [
              1,
              "#f0f921"
             ]
            ],
            "type": "histogram2dcontour"
           }
          ],
          "mesh3d": [
           {
            "colorbar": {
             "outlinewidth": 0,
             "ticks": ""
            },
            "type": "mesh3d"
           }
          ],
          "parcoords": [
           {
            "line": {
             "colorbar": {
              "outlinewidth": 0,
              "ticks": ""
             }
            },
            "type": "parcoords"
           }
          ],
          "pie": [
           {
            "automargin": true,
            "type": "pie"
           }
          ],
          "scatter": [
           {
            "marker": {
             "colorbar": {
              "outlinewidth": 0,
              "ticks": ""
             }
            },
            "type": "scatter"
           }
          ],
          "scatter3d": [
           {
            "line": {
             "colorbar": {
              "outlinewidth": 0,
              "ticks": ""
             }
            },
            "marker": {
             "colorbar": {
              "outlinewidth": 0,
              "ticks": ""
             }
            },
            "type": "scatter3d"
           }
          ],
          "scattercarpet": [
           {
            "marker": {
             "colorbar": {
              "outlinewidth": 0,
              "ticks": ""
             }
            },
            "type": "scattercarpet"
           }
          ],
          "scattergeo": [
           {
            "marker": {
             "colorbar": {
              "outlinewidth": 0,
              "ticks": ""
             }
            },
            "type": "scattergeo"
           }
          ],
          "scattergl": [
           {
            "marker": {
             "colorbar": {
              "outlinewidth": 0,
              "ticks": ""
             }
            },
            "type": "scattergl"
           }
          ],
          "scattermapbox": [
           {
            "marker": {
             "colorbar": {
              "outlinewidth": 0,
              "ticks": ""
             }
            },
            "type": "scattermapbox"
           }
          ],
          "scatterpolar": [
           {
            "marker": {
             "colorbar": {
              "outlinewidth": 0,
              "ticks": ""
             }
            },
            "type": "scatterpolar"
           }
          ],
          "scatterpolargl": [
           {
            "marker": {
             "colorbar": {
              "outlinewidth": 0,
              "ticks": ""
             }
            },
            "type": "scatterpolargl"
           }
          ],
          "scatterternary": [
           {
            "marker": {
             "colorbar": {
              "outlinewidth": 0,
              "ticks": ""
             }
            },
            "type": "scatterternary"
           }
          ],
          "surface": [
           {
            "colorbar": {
             "outlinewidth": 0,
             "ticks": ""
            },
            "colorscale": [
             [
              0,
              "#0d0887"
             ],
             [
              0.1111111111111111,
              "#46039f"
             ],
             [
              0.2222222222222222,
              "#7201a8"
             ],
             [
              0.3333333333333333,
              "#9c179e"
             ],
             [
              0.4444444444444444,
              "#bd3786"
             ],
             [
              0.5555555555555556,
              "#d8576b"
             ],
             [
              0.6666666666666666,
              "#ed7953"
             ],
             [
              0.7777777777777778,
              "#fb9f3a"
             ],
             [
              0.8888888888888888,
              "#fdca26"
             ],
             [
              1,
              "#f0f921"
             ]
            ],
            "type": "surface"
           }
          ],
          "table": [
           {
            "cells": {
             "fill": {
              "color": "#EBF0F8"
             },
             "line": {
              "color": "white"
             }
            },
            "header": {
             "fill": {
              "color": "#C8D4E3"
             },
             "line": {
              "color": "white"
             }
            },
            "type": "table"
           }
          ]
         },
         "layout": {
          "annotationdefaults": {
           "arrowcolor": "#2a3f5f",
           "arrowhead": 0,
           "arrowwidth": 1
          },
          "autotypenumbers": "strict",
          "coloraxis": {
           "colorbar": {
            "outlinewidth": 0,
            "ticks": ""
           }
          },
          "colorscale": {
           "diverging": [
            [
             0,
             "#8e0152"
            ],
            [
             0.1,
             "#c51b7d"
            ],
            [
             0.2,
             "#de77ae"
            ],
            [
             0.3,
             "#f1b6da"
            ],
            [
             0.4,
             "#fde0ef"
            ],
            [
             0.5,
             "#f7f7f7"
            ],
            [
             0.6,
             "#e6f5d0"
            ],
            [
             0.7,
             "#b8e186"
            ],
            [
             0.8,
             "#7fbc41"
            ],
            [
             0.9,
             "#4d9221"
            ],
            [
             1,
             "#276419"
            ]
           ],
           "sequential": [
            [
             0,
             "#0d0887"
            ],
            [
             0.1111111111111111,
             "#46039f"
            ],
            [
             0.2222222222222222,
             "#7201a8"
            ],
            [
             0.3333333333333333,
             "#9c179e"
            ],
            [
             0.4444444444444444,
             "#bd3786"
            ],
            [
             0.5555555555555556,
             "#d8576b"
            ],
            [
             0.6666666666666666,
             "#ed7953"
            ],
            [
             0.7777777777777778,
             "#fb9f3a"
            ],
            [
             0.8888888888888888,
             "#fdca26"
            ],
            [
             1,
             "#f0f921"
            ]
           ],
           "sequentialminus": [
            [
             0,
             "#0d0887"
            ],
            [
             0.1111111111111111,
             "#46039f"
            ],
            [
             0.2222222222222222,
             "#7201a8"
            ],
            [
             0.3333333333333333,
             "#9c179e"
            ],
            [
             0.4444444444444444,
             "#bd3786"
            ],
            [
             0.5555555555555556,
             "#d8576b"
            ],
            [
             0.6666666666666666,
             "#ed7953"
            ],
            [
             0.7777777777777778,
             "#fb9f3a"
            ],
            [
             0.8888888888888888,
             "#fdca26"
            ],
            [
             1,
             "#f0f921"
            ]
           ]
          },
          "colorway": [
           "#636efa",
           "#EF553B",
           "#00cc96",
           "#ab63fa",
           "#FFA15A",
           "#19d3f3",
           "#FF6692",
           "#B6E880",
           "#FF97FF",
           "#FECB52"
          ],
          "font": {
           "color": "#2a3f5f"
          },
          "geo": {
           "bgcolor": "white",
           "lakecolor": "white",
           "landcolor": "#E5ECF6",
           "showlakes": true,
           "showland": true,
           "subunitcolor": "white"
          },
          "hoverlabel": {
           "align": "left"
          },
          "hovermode": "closest",
          "mapbox": {
           "style": "light"
          },
          "paper_bgcolor": "white",
          "plot_bgcolor": "#E5ECF6",
          "polar": {
           "angularaxis": {
            "gridcolor": "white",
            "linecolor": "white",
            "ticks": ""
           },
           "bgcolor": "#E5ECF6",
           "radialaxis": {
            "gridcolor": "white",
            "linecolor": "white",
            "ticks": ""
           }
          },
          "scene": {
           "xaxis": {
            "backgroundcolor": "#E5ECF6",
            "gridcolor": "white",
            "gridwidth": 2,
            "linecolor": "white",
            "showbackground": true,
            "ticks": "",
            "zerolinecolor": "white"
           },
           "yaxis": {
            "backgroundcolor": "#E5ECF6",
            "gridcolor": "white",
            "gridwidth": 2,
            "linecolor": "white",
            "showbackground": true,
            "ticks": "",
            "zerolinecolor": "white"
           },
           "zaxis": {
            "backgroundcolor": "#E5ECF6",
            "gridcolor": "white",
            "gridwidth": 2,
            "linecolor": "white",
            "showbackground": true,
            "ticks": "",
            "zerolinecolor": "white"
           }
          },
          "shapedefaults": {
           "line": {
            "color": "#2a3f5f"
           }
          },
          "ternary": {
           "aaxis": {
            "gridcolor": "white",
            "linecolor": "white",
            "ticks": ""
           },
           "baxis": {
            "gridcolor": "white",
            "linecolor": "white",
            "ticks": ""
           },
           "bgcolor": "#E5ECF6",
           "caxis": {
            "gridcolor": "white",
            "linecolor": "white",
            "ticks": ""
           }
          },
          "title": {
           "x": 0.05
          },
          "xaxis": {
           "automargin": true,
           "gridcolor": "white",
           "linecolor": "white",
           "ticks": "",
           "title": {
            "standoff": 15
           },
           "zerolinecolor": "white",
           "zerolinewidth": 2
          },
          "yaxis": {
           "automargin": true,
           "gridcolor": "white",
           "linecolor": "white",
           "ticks": "",
           "title": {
            "standoff": 15
           },
           "zerolinecolor": "white",
           "zerolinewidth": 2
          }
         }
        },
        "title": {
         "font": {
          "color": "#4D5663"
         }
        },
        "xaxis": {
         "gridcolor": "#E1E5ED",
         "showgrid": true,
         "tickfont": {
          "color": "#4D5663"
         },
         "title": {
          "font": {
           "color": "#4D5663"
          },
          "text": ""
         },
         "zerolinecolor": "#E1E5ED"
        },
        "yaxis": {
         "gridcolor": "#E1E5ED",
         "showgrid": true,
         "tickfont": {
          "color": "#4D5663"
         },
         "title": {
          "font": {
           "color": "#4D5663"
          },
          "text": ""
         },
         "zerolinecolor": "#E1E5ED"
        }
       }
      },
      "text/html": [
       "<div>                            <div id=\"e5232a14-960e-4df1-b67c-7e13722771c8\" class=\"plotly-graph-div\" style=\"height:525px; width:100%;\"></div>            <script type=\"text/javascript\">                require([\"plotly\"], function(Plotly) {                    window.PLOTLYENV=window.PLOTLYENV || {};\n",
       "                    window.PLOTLYENV.BASE_URL='https://plot.ly';                                    if (document.getElementById(\"e5232a14-960e-4df1-b67c-7e13722771c8\")) {                    Plotly.newPlot(                        \"e5232a14-960e-4df1-b67c-7e13722771c8\",                        [{\"marker\": {\"color\": \"rgba(255, 153, 51, 0.6)\", \"line\": {\"color\": \"rgba(255, 153, 51, 1.0)\", \"width\": 1}}, \"name\": \"Total Cases\", \"orientation\": \"v\", \"text\": \"\", \"type\": \"bar\", \"x\": [\"Punjab\", \"Gujarat\", \"Tamil Nadu\", \"Maharashtra\"], \"y\": [358186, 553172, 1148064, 4539553]}, {\"marker\": {\"color\": \"rgba(55, 128, 191, 0.6)\", \"line\": {\"color\": \"rgba(55, 128, 191, 1.0)\", \"width\": 1}}, \"name\": \"Total Recovered\", \"orientation\": \"v\", \"text\": \"\", \"type\": \"bar\", \"x\": [\"Punjab\", \"Gujarat\", \"Tamil Nadu\", \"Maharashtra\"], \"y\": [295988, 408368, 1021575, 3799266]}, {\"marker\": {\"color\": \"rgba(50, 171, 96, 0.6)\", \"line\": {\"color\": \"rgba(50, 171, 96, 1.0)\", \"width\": 1}}, \"name\": \"Total Deaths\", \"orientation\": \"v\", \"text\": \"\", \"type\": \"bar\", \"x\": [\"Punjab\", \"Gujarat\", \"Tamil Nadu\", \"Maharashtra\"], \"y\": [8772, 7010, 13933, 67985]}, {\"marker\": {\"color\": \"rgba(128, 0, 128, 0.6)\", \"line\": {\"color\": \"rgba(128, 0, 128, 1.0)\", \"width\": 1}}, \"name\": \"Active Cases\", \"orientation\": \"v\", \"text\": \"\", \"type\": \"bar\", \"x\": [\"Punjab\", \"Gujarat\", \"Tamil Nadu\", \"Maharashtra\"], \"y\": [53426, 137794, 112556, 670301]}],                        {\"legend\": {\"bgcolor\": \"#F5F6F9\", \"font\": {\"color\": \"#4D5663\"}}, \"paper_bgcolor\": \"#F5F6F9\", \"plot_bgcolor\": \"#F5F6F9\", \"template\": {\"data\": {\"bar\": [{\"error_x\": {\"color\": \"#2a3f5f\"}, \"error_y\": {\"color\": \"#2a3f5f\"}, \"marker\": {\"line\": {\"color\": \"#E5ECF6\", \"width\": 0.5}}, \"type\": \"bar\"}], \"barpolar\": [{\"marker\": {\"line\": {\"color\": \"#E5ECF6\", \"width\": 0.5}}, \"type\": \"barpolar\"}], \"carpet\": [{\"aaxis\": {\"endlinecolor\": \"#2a3f5f\", \"gridcolor\": \"white\", \"linecolor\": \"white\", \"minorgridcolor\": \"white\", \"startlinecolor\": \"#2a3f5f\"}, \"baxis\": {\"endlinecolor\": \"#2a3f5f\", \"gridcolor\": \"white\", \"linecolor\": \"white\", \"minorgridcolor\": \"white\", \"startlinecolor\": \"#2a3f5f\"}, \"type\": \"carpet\"}], \"choropleth\": [{\"colorbar\": {\"outlinewidth\": 0, \"ticks\": \"\"}, \"type\": \"choropleth\"}], \"contour\": [{\"colorbar\": {\"outlinewidth\": 0, \"ticks\": \"\"}, \"colorscale\": [[0.0, \"#0d0887\"], [0.1111111111111111, \"#46039f\"], [0.2222222222222222, \"#7201a8\"], [0.3333333333333333, \"#9c179e\"], [0.4444444444444444, \"#bd3786\"], [0.5555555555555556, \"#d8576b\"], [0.6666666666666666, \"#ed7953\"], [0.7777777777777778, \"#fb9f3a\"], [0.8888888888888888, \"#fdca26\"], [1.0, \"#f0f921\"]], \"type\": \"contour\"}], \"contourcarpet\": [{\"colorbar\": {\"outlinewidth\": 0, \"ticks\": \"\"}, \"type\": \"contourcarpet\"}], \"heatmap\": [{\"colorbar\": {\"outlinewidth\": 0, \"ticks\": \"\"}, \"colorscale\": [[0.0, \"#0d0887\"], [0.1111111111111111, \"#46039f\"], [0.2222222222222222, \"#7201a8\"], [0.3333333333333333, \"#9c179e\"], [0.4444444444444444, \"#bd3786\"], [0.5555555555555556, \"#d8576b\"], [0.6666666666666666, \"#ed7953\"], [0.7777777777777778, \"#fb9f3a\"], [0.8888888888888888, \"#fdca26\"], [1.0, \"#f0f921\"]], \"type\": \"heatmap\"}], \"heatmapgl\": [{\"colorbar\": {\"outlinewidth\": 0, \"ticks\": \"\"}, \"colorscale\": [[0.0, \"#0d0887\"], [0.1111111111111111, \"#46039f\"], [0.2222222222222222, \"#7201a8\"], [0.3333333333333333, \"#9c179e\"], [0.4444444444444444, \"#bd3786\"], [0.5555555555555556, \"#d8576b\"], [0.6666666666666666, \"#ed7953\"], [0.7777777777777778, \"#fb9f3a\"], [0.8888888888888888, \"#fdca26\"], [1.0, \"#f0f921\"]], \"type\": \"heatmapgl\"}], \"histogram\": [{\"marker\": {\"colorbar\": {\"outlinewidth\": 0, \"ticks\": \"\"}}, \"type\": \"histogram\"}], \"histogram2d\": [{\"colorbar\": {\"outlinewidth\": 0, \"ticks\": \"\"}, \"colorscale\": [[0.0, \"#0d0887\"], [0.1111111111111111, \"#46039f\"], [0.2222222222222222, \"#7201a8\"], [0.3333333333333333, \"#9c179e\"], [0.4444444444444444, \"#bd3786\"], [0.5555555555555556, \"#d8576b\"], [0.6666666666666666, \"#ed7953\"], [0.7777777777777778, \"#fb9f3a\"], [0.8888888888888888, \"#fdca26\"], [1.0, \"#f0f921\"]], \"type\": \"histogram2d\"}], \"histogram2dcontour\": [{\"colorbar\": {\"outlinewidth\": 0, \"ticks\": \"\"}, \"colorscale\": [[0.0, \"#0d0887\"], [0.1111111111111111, \"#46039f\"], [0.2222222222222222, \"#7201a8\"], [0.3333333333333333, \"#9c179e\"], [0.4444444444444444, \"#bd3786\"], [0.5555555555555556, \"#d8576b\"], [0.6666666666666666, \"#ed7953\"], [0.7777777777777778, \"#fb9f3a\"], [0.8888888888888888, \"#fdca26\"], [1.0, \"#f0f921\"]], \"type\": \"histogram2dcontour\"}], \"mesh3d\": [{\"colorbar\": {\"outlinewidth\": 0, \"ticks\": \"\"}, \"type\": \"mesh3d\"}], \"parcoords\": [{\"line\": {\"colorbar\": {\"outlinewidth\": 0, \"ticks\": \"\"}}, \"type\": \"parcoords\"}], \"pie\": [{\"automargin\": true, \"type\": \"pie\"}], \"scatter\": [{\"marker\": {\"colorbar\": {\"outlinewidth\": 0, \"ticks\": \"\"}}, \"type\": \"scatter\"}], \"scatter3d\": [{\"line\": {\"colorbar\": {\"outlinewidth\": 0, \"ticks\": \"\"}}, \"marker\": {\"colorbar\": {\"outlinewidth\": 0, \"ticks\": \"\"}}, \"type\": \"scatter3d\"}], \"scattercarpet\": [{\"marker\": {\"colorbar\": {\"outlinewidth\": 0, \"ticks\": \"\"}}, \"type\": \"scattercarpet\"}], \"scattergeo\": [{\"marker\": {\"colorbar\": {\"outlinewidth\": 0, \"ticks\": \"\"}}, \"type\": \"scattergeo\"}], \"scattergl\": [{\"marker\": {\"colorbar\": {\"outlinewidth\": 0, \"ticks\": \"\"}}, \"type\": \"scattergl\"}], \"scattermapbox\": [{\"marker\": {\"colorbar\": {\"outlinewidth\": 0, \"ticks\": \"\"}}, \"type\": \"scattermapbox\"}], \"scatterpolar\": [{\"marker\": {\"colorbar\": {\"outlinewidth\": 0, \"ticks\": \"\"}}, \"type\": \"scatterpolar\"}], \"scatterpolargl\": [{\"marker\": {\"colorbar\": {\"outlinewidth\": 0, \"ticks\": \"\"}}, \"type\": \"scatterpolargl\"}], \"scatterternary\": [{\"marker\": {\"colorbar\": {\"outlinewidth\": 0, \"ticks\": \"\"}}, \"type\": \"scatterternary\"}], \"surface\": [{\"colorbar\": {\"outlinewidth\": 0, \"ticks\": \"\"}, \"colorscale\": [[0.0, \"#0d0887\"], [0.1111111111111111, \"#46039f\"], [0.2222222222222222, \"#7201a8\"], [0.3333333333333333, \"#9c179e\"], [0.4444444444444444, \"#bd3786\"], [0.5555555555555556, \"#d8576b\"], [0.6666666666666666, \"#ed7953\"], [0.7777777777777778, \"#fb9f3a\"], [0.8888888888888888, \"#fdca26\"], [1.0, \"#f0f921\"]], \"type\": \"surface\"}], \"table\": [{\"cells\": {\"fill\": {\"color\": \"#EBF0F8\"}, \"line\": {\"color\": \"white\"}}, \"header\": {\"fill\": {\"color\": \"#C8D4E3\"}, \"line\": {\"color\": \"white\"}}, \"type\": \"table\"}]}, \"layout\": {\"annotationdefaults\": {\"arrowcolor\": \"#2a3f5f\", \"arrowhead\": 0, \"arrowwidth\": 1}, \"autotypenumbers\": \"strict\", \"coloraxis\": {\"colorbar\": {\"outlinewidth\": 0, \"ticks\": \"\"}}, \"colorscale\": {\"diverging\": [[0, \"#8e0152\"], [0.1, \"#c51b7d\"], [0.2, \"#de77ae\"], [0.3, \"#f1b6da\"], [0.4, \"#fde0ef\"], [0.5, \"#f7f7f7\"], [0.6, \"#e6f5d0\"], [0.7, \"#b8e186\"], [0.8, \"#7fbc41\"], [0.9, \"#4d9221\"], [1, \"#276419\"]], \"sequential\": [[0.0, \"#0d0887\"], [0.1111111111111111, \"#46039f\"], [0.2222222222222222, \"#7201a8\"], [0.3333333333333333, \"#9c179e\"], [0.4444444444444444, \"#bd3786\"], [0.5555555555555556, \"#d8576b\"], [0.6666666666666666, \"#ed7953\"], [0.7777777777777778, \"#fb9f3a\"], [0.8888888888888888, \"#fdca26\"], [1.0, \"#f0f921\"]], \"sequentialminus\": [[0.0, \"#0d0887\"], [0.1111111111111111, \"#46039f\"], [0.2222222222222222, \"#7201a8\"], [0.3333333333333333, \"#9c179e\"], [0.4444444444444444, \"#bd3786\"], [0.5555555555555556, \"#d8576b\"], [0.6666666666666666, \"#ed7953\"], [0.7777777777777778, \"#fb9f3a\"], [0.8888888888888888, \"#fdca26\"], [1.0, \"#f0f921\"]]}, \"colorway\": [\"#636efa\", \"#EF553B\", \"#00cc96\", \"#ab63fa\", \"#FFA15A\", \"#19d3f3\", \"#FF6692\", \"#B6E880\", \"#FF97FF\", \"#FECB52\"], \"font\": {\"color\": \"#2a3f5f\"}, \"geo\": {\"bgcolor\": \"white\", \"lakecolor\": \"white\", \"landcolor\": \"#E5ECF6\", \"showlakes\": true, \"showland\": true, \"subunitcolor\": \"white\"}, \"hoverlabel\": {\"align\": \"left\"}, \"hovermode\": \"closest\", \"mapbox\": {\"style\": \"light\"}, \"paper_bgcolor\": \"white\", \"plot_bgcolor\": \"#E5ECF6\", \"polar\": {\"angularaxis\": {\"gridcolor\": \"white\", \"linecolor\": \"white\", \"ticks\": \"\"}, \"bgcolor\": \"#E5ECF6\", \"radialaxis\": {\"gridcolor\": \"white\", \"linecolor\": \"white\", \"ticks\": \"\"}}, \"scene\": {\"xaxis\": {\"backgroundcolor\": \"#E5ECF6\", \"gridcolor\": \"white\", \"gridwidth\": 2, \"linecolor\": \"white\", \"showbackground\": true, \"ticks\": \"\", \"zerolinecolor\": \"white\"}, \"yaxis\": {\"backgroundcolor\": \"#E5ECF6\", \"gridcolor\": \"white\", \"gridwidth\": 2, \"linecolor\": \"white\", \"showbackground\": true, \"ticks\": \"\", \"zerolinecolor\": \"white\"}, \"zaxis\": {\"backgroundcolor\": \"#E5ECF6\", \"gridcolor\": \"white\", \"gridwidth\": 2, \"linecolor\": \"white\", \"showbackground\": true, \"ticks\": \"\", \"zerolinecolor\": \"white\"}}, \"shapedefaults\": {\"line\": {\"color\": \"#2a3f5f\"}}, \"ternary\": {\"aaxis\": {\"gridcolor\": \"white\", \"linecolor\": \"white\", \"ticks\": \"\"}, \"baxis\": {\"gridcolor\": \"white\", \"linecolor\": \"white\", \"ticks\": \"\"}, \"bgcolor\": \"#E5ECF6\", \"caxis\": {\"gridcolor\": \"white\", \"linecolor\": \"white\", \"ticks\": \"\"}}, \"title\": {\"x\": 0.05}, \"xaxis\": {\"automargin\": true, \"gridcolor\": \"white\", \"linecolor\": \"white\", \"ticks\": \"\", \"title\": {\"standoff\": 15}, \"zerolinecolor\": \"white\", \"zerolinewidth\": 2}, \"yaxis\": {\"automargin\": true, \"gridcolor\": \"white\", \"linecolor\": \"white\", \"ticks\": \"\", \"title\": {\"standoff\": 15}, \"zerolinecolor\": \"white\", \"zerolinewidth\": 2}}}, \"title\": {\"font\": {\"color\": \"#4D5663\"}}, \"xaxis\": {\"gridcolor\": \"#E1E5ED\", \"showgrid\": true, \"tickfont\": {\"color\": \"#4D5663\"}, \"title\": {\"font\": {\"color\": \"#4D5663\"}, \"text\": \"\"}, \"zerolinecolor\": \"#E1E5ED\"}, \"yaxis\": {\"gridcolor\": \"#E1E5ED\", \"showgrid\": true, \"tickfont\": {\"color\": \"#4D5663\"}, \"title\": {\"font\": {\"color\": \"#4D5663\"}, \"text\": \"\"}, \"zerolinecolor\": \"#E1E5ED\"}},                        {\"showLink\": true, \"linkText\": \"Export to plot.ly\", \"plotlyServerURL\": \"https://plot.ly\", \"responsive\": true}                    ).then(function(){\n",
       "                            \n",
       "var gd = document.getElementById('e5232a14-960e-4df1-b67c-7e13722771c8');\n",
       "var x = new MutationObserver(function (mutations, observer) {{\n",
       "        var display = window.getComputedStyle(gd).display;\n",
       "        if (!display || display === 'none') {{\n",
       "            console.log([gd, 'removed!']);\n",
       "            Plotly.purge(gd);\n",
       "            observer.disconnect();\n",
       "        }}\n",
       "}});\n",
       "\n",
       "// Listen for the removal of the full notebook cells\n",
       "var notebookContainer = gd.closest('#notebook-container');\n",
       "if (notebookContainer) {{\n",
       "    x.observe(notebookContainer, {childList: true});\n",
       "}}\n",
       "\n",
       "// Listen for the clearing of the current output cell\n",
       "var outputEl = gd.closest('.output');\n",
       "if (outputEl) {{\n",
       "    x.observe(outputEl, {childList: true});\n",
       "}}\n",
       "\n",
       "                        })                };                });            </script>        </div>"
      ]
     },
     "metadata": {},
     "output_type": "display_data"
    }
   ],
   "source": [
    "de.mean().sort_values(by=\"Total Cases\").iplot(kind=\"bar\")"
   ]
  },
  {
   "cell_type": "code",
   "execution_count": 31,
   "metadata": {},
   "outputs": [
    {
     "data": {
      "text/html": [
       "<div>\n",
       "<style scoped>\n",
       "    .dataframe tbody tr th:only-of-type {\n",
       "        vertical-align: middle;\n",
       "    }\n",
       "\n",
       "    .dataframe tbody tr th {\n",
       "        vertical-align: top;\n",
       "    }\n",
       "\n",
       "    .dataframe thead th {\n",
       "        text-align: right;\n",
       "    }\n",
       "</style>\n",
       "<table border=\"1\" class=\"dataframe\">\n",
       "  <thead>\n",
       "    <tr style=\"text-align: right;\">\n",
       "      <th></th>\n",
       "      <th>State</th>\n",
       "      <th>Total Cases</th>\n",
       "      <th>Total Recovered</th>\n",
       "      <th>Total Deaths</th>\n",
       "      <th>Active Cases</th>\n",
       "    </tr>\n",
       "  </thead>\n",
       "  <tbody>\n",
       "    <tr>\n",
       "      <th>7</th>\n",
       "      <td>West Bengal</td>\n",
       "      <td>810955</td>\n",
       "      <td>689466</td>\n",
       "      <td>11248</td>\n",
       "      <td>110241</td>\n",
       "    </tr>\n",
       "    <tr>\n",
       "      <th>20</th>\n",
       "      <td>Uttarakhand</td>\n",
       "      <td>174867</td>\n",
       "      <td>120350</td>\n",
       "      <td>2502</td>\n",
       "      <td>48318</td>\n",
       "    </tr>\n",
       "    <tr>\n",
       "      <th>6</th>\n",
       "      <td>Uttar Pradesh</td>\n",
       "      <td>1217952</td>\n",
       "      <td>896477</td>\n",
       "      <td>12238</td>\n",
       "      <td>309237</td>\n",
       "    </tr>\n",
       "    <tr>\n",
       "      <th>24</th>\n",
       "      <td>Tripura</td>\n",
       "      <td>35025</td>\n",
       "      <td>33505</td>\n",
       "      <td>393</td>\n",
       "      <td>1104</td>\n",
       "    </tr>\n",
       "    <tr>\n",
       "      <th>11</th>\n",
       "      <td>Telangana</td>\n",
       "      <td>427960</td>\n",
       "      <td>349692</td>\n",
       "      <td>2208</td>\n",
       "      <td>76060</td>\n",
       "    </tr>\n",
       "    <tr>\n",
       "      <th>4</th>\n",
       "      <td>Tamil Nadu</td>\n",
       "      <td>1148064</td>\n",
       "      <td>1021575</td>\n",
       "      <td>13933</td>\n",
       "      <td>112556</td>\n",
       "    </tr>\n",
       "    <tr>\n",
       "      <th>31</th>\n",
       "      <td>Sikkim</td>\n",
       "      <td>7577</td>\n",
       "      <td>6154</td>\n",
       "      <td>143</td>\n",
       "      <td>1106</td>\n",
       "    </tr>\n",
       "    <tr>\n",
       "      <th>9</th>\n",
       "      <td>Rajasthan</td>\n",
       "      <td>580846</td>\n",
       "      <td>407243</td>\n",
       "      <td>4084</td>\n",
       "      <td>169519</td>\n",
       "    </tr>\n",
       "    <tr>\n",
       "      <th>17</th>\n",
       "      <td>Punjab</td>\n",
       "      <td>358186</td>\n",
       "      <td>295988</td>\n",
       "      <td>8772</td>\n",
       "      <td>53426</td>\n",
       "    </tr>\n",
       "    <tr>\n",
       "      <th>23</th>\n",
       "      <td>Puducherry</td>\n",
       "      <td>57427</td>\n",
       "      <td>47645</td>\n",
       "      <td>793</td>\n",
       "      <td>8989</td>\n",
       "    </tr>\n",
       "    <tr>\n",
       "      <th>8</th>\n",
       "      <td>Odisha</td>\n",
       "      <td>435513</td>\n",
       "      <td>380400</td>\n",
       "      <td>2082</td>\n",
       "      <td>53031</td>\n",
       "    </tr>\n",
       "    <tr>\n",
       "      <th>29</th>\n",
       "      <td>Nagaland</td>\n",
       "      <td>13569</td>\n",
       "      <td>12183</td>\n",
       "      <td>100</td>\n",
       "      <td>952</td>\n",
       "    </tr>\n",
       "    <tr>\n",
       "      <th>33</th>\n",
       "      <td>Mizoram</td>\n",
       "      <td>5879</td>\n",
       "      <td>4857</td>\n",
       "      <td>13</td>\n",
       "      <td>1009</td>\n",
       "    </tr>\n",
       "    <tr>\n",
       "      <th>28</th>\n",
       "      <td>Meghalaya</td>\n",
       "      <td>16617</td>\n",
       "      <td>14917</td>\n",
       "      <td>169</td>\n",
       "      <td>1531</td>\n",
       "    </tr>\n",
       "    <tr>\n",
       "      <th>25</th>\n",
       "      <td>Manipur</td>\n",
       "      <td>31001</td>\n",
       "      <td>29376</td>\n",
       "      <td>395</td>\n",
       "      <td>1230</td>\n",
       "    </tr>\n",
       "    <tr>\n",
       "      <th>0</th>\n",
       "      <td>Maharashtra</td>\n",
       "      <td>4539553</td>\n",
       "      <td>3799266</td>\n",
       "      <td>67985</td>\n",
       "      <td>670301</td>\n",
       "    </tr>\n",
       "    <tr>\n",
       "      <th>15</th>\n",
       "      <td>Madhya Pradesh</td>\n",
       "      <td>538165</td>\n",
       "      <td>439968</td>\n",
       "      <td>5424</td>\n",
       "      <td>92773</td>\n",
       "    </tr>\n",
       "    <tr>\n",
       "      <th>35</th>\n",
       "      <td>Lakshadweep</td>\n",
       "      <td>2504</td>\n",
       "      <td>1329</td>\n",
       "      <td>1</td>\n",
       "      <td>1167</td>\n",
       "    </tr>\n",
       "    <tr>\n",
       "      <th>30</th>\n",
       "      <td>Ladakh</td>\n",
       "      <td>13758</td>\n",
       "      <td>11937</td>\n",
       "      <td>139</td>\n",
       "      <td>1682</td>\n",
       "    </tr>\n",
       "    <tr>\n",
       "      <th>1</th>\n",
       "      <td>Kerala</td>\n",
       "      <td>1533985</td>\n",
       "      <td>1244301</td>\n",
       "      <td>5260</td>\n",
       "      <td>284085</td>\n",
       "    </tr>\n",
       "    <tr>\n",
       "      <th>2</th>\n",
       "      <td>Karnataka</td>\n",
       "      <td>1474846</td>\n",
       "      <td>1110025</td>\n",
       "      <td>15306</td>\n",
       "      <td>349496</td>\n",
       "    </tr>\n",
       "    <tr>\n",
       "      <th>19</th>\n",
       "      <td>Jharkhand</td>\n",
       "      <td>221489</td>\n",
       "      <td>164278</td>\n",
       "      <td>2395</td>\n",
       "      <td>54816</td>\n",
       "    </tr>\n",
       "    <tr>\n",
       "      <th>18</th>\n",
       "      <td>Jammu and Kashmir</td>\n",
       "      <td>172551</td>\n",
       "      <td>144154</td>\n",
       "      <td>2253</td>\n",
       "      <td>26144</td>\n",
       "    </tr>\n",
       "    <tr>\n",
       "      <th>21</th>\n",
       "      <td>Himachal Pradesh</td>\n",
       "      <td>93889</td>\n",
       "      <td>76335</td>\n",
       "      <td>1407</td>\n",
       "      <td>16098</td>\n",
       "    </tr>\n",
       "    <tr>\n",
       "      <th>12</th>\n",
       "      <td>Haryana</td>\n",
       "      <td>460198</td>\n",
       "      <td>367317</td>\n",
       "      <td>4021</td>\n",
       "      <td>88860</td>\n",
       "    </tr>\n",
       "    <tr>\n",
       "      <th>13</th>\n",
       "      <td>Gujarat</td>\n",
       "      <td>553172</td>\n",
       "      <td>408368</td>\n",
       "      <td>7010</td>\n",
       "      <td>137794</td>\n",
       "    </tr>\n",
       "    <tr>\n",
       "      <th>22</th>\n",
       "      <td>Goa</td>\n",
       "      <td>88028</td>\n",
       "      <td>65984</td>\n",
       "      <td>1146</td>\n",
       "      <td>20898</td>\n",
       "    </tr>\n",
       "    <tr>\n",
       "      <th>5</th>\n",
       "      <td>Delhi</td>\n",
       "      <td>1098051</td>\n",
       "      <td>982922</td>\n",
       "      <td>15377</td>\n",
       "      <td>99752</td>\n",
       "    </tr>\n",
       "    <tr>\n",
       "      <th>34</th>\n",
       "      <td>Dadra and Nagar Haveli and Daman and Diu</td>\n",
       "      <td>7378</td>\n",
       "      <td>5151</td>\n",
       "      <td>4</td>\n",
       "      <td>2192</td>\n",
       "    </tr>\n",
       "    <tr>\n",
       "      <th>10</th>\n",
       "      <td>Chhattisgarh</td>\n",
       "      <td>697902</td>\n",
       "      <td>570995</td>\n",
       "      <td>8061</td>\n",
       "      <td>118846</td>\n",
       "    </tr>\n",
       "    <tr>\n",
       "      <th>26</th>\n",
       "      <td>Chandigarh</td>\n",
       "      <td>41923</td>\n",
       "      <td>34806</td>\n",
       "      <td>465</td>\n",
       "      <td>6652</td>\n",
       "    </tr>\n",
       "    <tr>\n",
       "      <th>14</th>\n",
       "      <td>Bihar</td>\n",
       "      <td>454464</td>\n",
       "      <td>351162</td>\n",
       "      <td>2480</td>\n",
       "      <td>100821</td>\n",
       "    </tr>\n",
       "    <tr>\n",
       "      <th>16</th>\n",
       "      <td>Assam</td>\n",
       "      <td>246847</td>\n",
       "      <td>222397</td>\n",
       "      <td>1255</td>\n",
       "      <td>21848</td>\n",
       "    </tr>\n",
       "    <tr>\n",
       "      <th>27</th>\n",
       "      <td>Arunachal Pradesh</td>\n",
       "      <td>18063</td>\n",
       "      <td>17038</td>\n",
       "      <td>58</td>\n",
       "      <td>967</td>\n",
       "    </tr>\n",
       "    <tr>\n",
       "      <th>3</th>\n",
       "      <td>Andhra Pradesh</td>\n",
       "      <td>1084336</td>\n",
       "      <td>962250</td>\n",
       "      <td>7928</td>\n",
       "      <td>114158</td>\n",
       "    </tr>\n",
       "    <tr>\n",
       "      <th>32</th>\n",
       "      <td>Andaman and Nicobar Islands</td>\n",
       "      <td>5816</td>\n",
       "      <td>5606</td>\n",
       "      <td>67</td>\n",
       "      <td>143</td>\n",
       "    </tr>\n",
       "  </tbody>\n",
       "</table>\n",
       "</div>"
      ],
      "text/plain": [
       "                                       State  Total Cases  Total Recovered  \\\n",
       "7                                West Bengal       810955           689466   \n",
       "20                               Uttarakhand       174867           120350   \n",
       "6                              Uttar Pradesh      1217952           896477   \n",
       "24                                   Tripura        35025            33505   \n",
       "11                                 Telangana       427960           349692   \n",
       "4                                 Tamil Nadu      1148064          1021575   \n",
       "31                                    Sikkim         7577             6154   \n",
       "9                                  Rajasthan       580846           407243   \n",
       "17                                    Punjab       358186           295988   \n",
       "23                                Puducherry        57427            47645   \n",
       "8                                     Odisha       435513           380400   \n",
       "29                                  Nagaland        13569            12183   \n",
       "33                                   Mizoram         5879             4857   \n",
       "28                                 Meghalaya        16617            14917   \n",
       "25                                   Manipur        31001            29376   \n",
       "0                                Maharashtra      4539553          3799266   \n",
       "15                            Madhya Pradesh       538165           439968   \n",
       "35                               Lakshadweep         2504             1329   \n",
       "30                                    Ladakh        13758            11937   \n",
       "1                                     Kerala      1533985          1244301   \n",
       "2                                  Karnataka      1474846          1110025   \n",
       "19                                 Jharkhand       221489           164278   \n",
       "18                         Jammu and Kashmir       172551           144154   \n",
       "21                          Himachal Pradesh        93889            76335   \n",
       "12                                   Haryana       460198           367317   \n",
       "13                                   Gujarat       553172           408368   \n",
       "22                                       Goa        88028            65984   \n",
       "5                                      Delhi      1098051           982922   \n",
       "34  Dadra and Nagar Haveli and Daman and Diu         7378             5151   \n",
       "10                              Chhattisgarh       697902           570995   \n",
       "26                                Chandigarh        41923            34806   \n",
       "14                                     Bihar       454464           351162   \n",
       "16                                     Assam       246847           222397   \n",
       "27                         Arunachal Pradesh        18063            17038   \n",
       "3                             Andhra Pradesh      1084336           962250   \n",
       "32               Andaman and Nicobar Islands         5816             5606   \n",
       "\n",
       "    Total Deaths  Active Cases  \n",
       "7          11248        110241  \n",
       "20          2502         48318  \n",
       "6          12238        309237  \n",
       "24           393          1104  \n",
       "11          2208         76060  \n",
       "4          13933        112556  \n",
       "31           143          1106  \n",
       "9           4084        169519  \n",
       "17          8772         53426  \n",
       "23           793          8989  \n",
       "8           2082         53031  \n",
       "29           100           952  \n",
       "33            13          1009  \n",
       "28           169          1531  \n",
       "25           395          1230  \n",
       "0          67985        670301  \n",
       "15          5424         92773  \n",
       "35             1          1167  \n",
       "30           139          1682  \n",
       "1           5260        284085  \n",
       "2          15306        349496  \n",
       "19          2395         54816  \n",
       "18          2253         26144  \n",
       "21          1407         16098  \n",
       "12          4021         88860  \n",
       "13          7010        137794  \n",
       "22          1146         20898  \n",
       "5          15377         99752  \n",
       "34             4          2192  \n",
       "10          8061        118846  \n",
       "26           465          6652  \n",
       "14          2480        100821  \n",
       "16          1255         21848  \n",
       "27            58           967  \n",
       "3           7928        114158  \n",
       "32            67           143  "
      ]
     },
     "execution_count": 31,
     "metadata": {},
     "output_type": "execute_result"
    }
   ],
   "source": [
    "df.sort_values( by =['State'],ascending=False)"
   ]
  },
  {
   "cell_type": "code",
   "execution_count": null,
   "metadata": {},
   "outputs": [],
   "source": []
  }
 ],
 "metadata": {
  "kernelspec": {
   "display_name": "Python 3",
   "language": "python",
   "name": "python3"
  },
  "language_info": {
   "codemirror_mode": {
    "name": "ipython",
    "version": 3
   },
   "file_extension": ".py",
   "mimetype": "text/x-python",
   "name": "python",
   "nbconvert_exporter": "python",
   "pygments_lexer": "ipython3",
   "version": "3.8.5"
  }
 },
 "nbformat": 4,
 "nbformat_minor": 4
}
